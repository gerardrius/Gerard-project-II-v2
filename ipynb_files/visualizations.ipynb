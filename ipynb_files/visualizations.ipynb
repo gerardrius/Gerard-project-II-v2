{
 "cells": [
  {
   "cell_type": "code",
   "execution_count": 39,
   "metadata": {},
   "outputs": [],
   "source": [
    "import pandas as pd\n",
    "import seaborn as sns\n",
    "import matplotlib.pyplot as plt\n",
    "import plotly.express as px\n",
    "import statsmodels.api as sm\n",
    "import numpy as np"
   ]
  },
  {
   "cell_type": "code",
   "execution_count": 62,
   "metadata": {},
   "outputs": [],
   "source": [
    "fifa17 = pd.read_csv(\"../csv_files/fifa_17.csv\", index_col=0)\n",
    "fifa18 = pd.read_csv(\"../csv_files/fifa_18.csv\", index_col=0)\n",
    "fifa19 = pd.read_csv(\"../csv_files/fifa_19.csv\", index_col=0)\n",
    "fifa21 = pd.read_csv(\"../csv_files/fifa_21.csv\", index_col=0)\n",
    "fifa22 = pd.read_csv(\"../csv_files/fifa_22.csv\", index_col=0)\n"
   ]
  },
  {
   "cell_type": "code",
   "execution_count": 63,
   "metadata": {},
   "outputs": [
    {
     "data": {
      "text/html": [
       "<div>\n",
       "<style scoped>\n",
       "    .dataframe tbody tr th:only-of-type {\n",
       "        vertical-align: middle;\n",
       "    }\n",
       "\n",
       "    .dataframe tbody tr th {\n",
       "        vertical-align: top;\n",
       "    }\n",
       "\n",
       "    .dataframe thead th {\n",
       "        text-align: right;\n",
       "    }\n",
       "</style>\n",
       "<table border=\"1\" class=\"dataframe\">\n",
       "  <thead>\n",
       "    <tr style=\"text-align: right;\">\n",
       "      <th></th>\n",
       "      <th>player_id</th>\n",
       "      <th>fifa_version</th>\n",
       "      <th>short_name</th>\n",
       "      <th>long_name</th>\n",
       "      <th>player_positions</th>\n",
       "      <th>overall</th>\n",
       "      <th>value_eur</th>\n",
       "      <th>wage_eur</th>\n",
       "      <th>age</th>\n",
       "      <th>height_cm</th>\n",
       "      <th>...</th>\n",
       "      <th>dribbling</th>\n",
       "      <th>defending</th>\n",
       "      <th>physic</th>\n",
       "      <th>goalkeeping_diving</th>\n",
       "      <th>goalkeeping_handling</th>\n",
       "      <th>goalkeeping_kicking</th>\n",
       "      <th>goalkeeping_positioning</th>\n",
       "      <th>goalkeeping_reflexes</th>\n",
       "      <th>goalkeeping_speed</th>\n",
       "      <th>points</th>\n",
       "    </tr>\n",
       "  </thead>\n",
       "  <tbody>\n",
       "    <tr>\n",
       "      <th>0</th>\n",
       "      <td>20801</td>\n",
       "      <td>17</td>\n",
       "      <td>Cristiano Ronaldo</td>\n",
       "      <td>Cristiano Ronaldo dos Santos Aveiro</td>\n",
       "      <td>LW</td>\n",
       "      <td>94</td>\n",
       "      <td>87000000.0</td>\n",
       "      <td>575000.0</td>\n",
       "      <td>31</td>\n",
       "      <td>185</td>\n",
       "      <td>...</td>\n",
       "      <td>91.0</td>\n",
       "      <td>33.0</td>\n",
       "      <td>80.0</td>\n",
       "      <td>7</td>\n",
       "      <td>11</td>\n",
       "      <td>15</td>\n",
       "      <td>14</td>\n",
       "      <td>11</td>\n",
       "      <td>NaN</td>\n",
       "      <td>946</td>\n",
       "    </tr>\n",
       "    <tr>\n",
       "      <th>1</th>\n",
       "      <td>158023</td>\n",
       "      <td>17</td>\n",
       "      <td>L. Messi</td>\n",
       "      <td>Lionel Andrés Messi Cuccittini</td>\n",
       "      <td>RW</td>\n",
       "      <td>93</td>\n",
       "      <td>89000000.0</td>\n",
       "      <td>575000.0</td>\n",
       "      <td>29</td>\n",
       "      <td>170</td>\n",
       "      <td>...</td>\n",
       "      <td>96.0</td>\n",
       "      <td>26.0</td>\n",
       "      <td>61.0</td>\n",
       "      <td>6</td>\n",
       "      <td>11</td>\n",
       "      <td>15</td>\n",
       "      <td>14</td>\n",
       "      <td>8</td>\n",
       "      <td>NaN</td>\n",
       "      <td>670</td>\n",
       "    </tr>\n",
       "    <tr>\n",
       "      <th>2</th>\n",
       "      <td>190871</td>\n",
       "      <td>17</td>\n",
       "      <td>Neymar</td>\n",
       "      <td>Neymar da Silva Santos Júnior</td>\n",
       "      <td>LW</td>\n",
       "      <td>92</td>\n",
       "      <td>109000000.0</td>\n",
       "      <td>450000.0</td>\n",
       "      <td>24</td>\n",
       "      <td>174</td>\n",
       "      <td>...</td>\n",
       "      <td>95.0</td>\n",
       "      <td>30.0</td>\n",
       "      <td>56.0</td>\n",
       "      <td>9</td>\n",
       "      <td>9</td>\n",
       "      <td>15</td>\n",
       "      <td>15</td>\n",
       "      <td>11</td>\n",
       "      <td>NaN</td>\n",
       "      <td>361</td>\n",
       "    </tr>\n",
       "    <tr>\n",
       "      <th>6</th>\n",
       "      <td>1179</td>\n",
       "      <td>17</td>\n",
       "      <td>G. Buffon</td>\n",
       "      <td>Gianluigi Buffon</td>\n",
       "      <td>GK</td>\n",
       "      <td>88</td>\n",
       "      <td>9000000.0</td>\n",
       "      <td>120000.0</td>\n",
       "      <td>38</td>\n",
       "      <td>192</td>\n",
       "      <td>...</td>\n",
       "      <td>NaN</td>\n",
       "      <td>NaN</td>\n",
       "      <td>NaN</td>\n",
       "      <td>87</td>\n",
       "      <td>88</td>\n",
       "      <td>68</td>\n",
       "      <td>90</td>\n",
       "      <td>84</td>\n",
       "      <td>46.0</td>\n",
       "      <td>221</td>\n",
       "    </tr>\n",
       "    <tr>\n",
       "      <th>5</th>\n",
       "      <td>177003</td>\n",
       "      <td>17</td>\n",
       "      <td>L. Modrić</td>\n",
       "      <td>Luka Modrić</td>\n",
       "      <td>CM</td>\n",
       "      <td>89</td>\n",
       "      <td>54000000.0</td>\n",
       "      <td>325000.0</td>\n",
       "      <td>30</td>\n",
       "      <td>174</td>\n",
       "      <td>...</td>\n",
       "      <td>89.0</td>\n",
       "      <td>72.0</td>\n",
       "      <td>66.0</td>\n",
       "      <td>13</td>\n",
       "      <td>9</td>\n",
       "      <td>7</td>\n",
       "      <td>14</td>\n",
       "      <td>9</td>\n",
       "      <td>NaN</td>\n",
       "      <td>84</td>\n",
       "    </tr>\n",
       "    <tr>\n",
       "      <th>4</th>\n",
       "      <td>155862</td>\n",
       "      <td>17</td>\n",
       "      <td>Sergio Ramos</td>\n",
       "      <td>Sergio Ramos García</td>\n",
       "      <td>CB</td>\n",
       "      <td>89</td>\n",
       "      <td>43500000.0</td>\n",
       "      <td>300000.0</td>\n",
       "      <td>30</td>\n",
       "      <td>183</td>\n",
       "      <td>...</td>\n",
       "      <td>71.0</td>\n",
       "      <td>87.0</td>\n",
       "      <td>83.0</td>\n",
       "      <td>11</td>\n",
       "      <td>8</td>\n",
       "      <td>9</td>\n",
       "      <td>7</td>\n",
       "      <td>11</td>\n",
       "      <td>NaN</td>\n",
       "      <td>71</td>\n",
       "    </tr>\n",
       "    <tr>\n",
       "      <th>9</th>\n",
       "      <td>231747</td>\n",
       "      <td>17</td>\n",
       "      <td>K. Mbappe Lottin</td>\n",
       "      <td>Kylian Mbappé Lottin</td>\n",
       "      <td>LW</td>\n",
       "      <td>71</td>\n",
       "      <td>3100000.0</td>\n",
       "      <td>20000.0</td>\n",
       "      <td>17</td>\n",
       "      <td>178</td>\n",
       "      <td>...</td>\n",
       "      <td>74.0</td>\n",
       "      <td>39.0</td>\n",
       "      <td>62.0</td>\n",
       "      <td>13</td>\n",
       "      <td>5</td>\n",
       "      <td>7</td>\n",
       "      <td>11</td>\n",
       "      <td>6</td>\n",
       "      <td>NaN</td>\n",
       "      <td>48</td>\n",
       "    </tr>\n",
       "    <tr>\n",
       "      <th>8</th>\n",
       "      <td>215914</td>\n",
       "      <td>17</td>\n",
       "      <td>N. Kanté</td>\n",
       "      <td>N'Golo Kanté</td>\n",
       "      <td>CM</td>\n",
       "      <td>81</td>\n",
       "      <td>21000000.0</td>\n",
       "      <td>130000.0</td>\n",
       "      <td>25</td>\n",
       "      <td>169</td>\n",
       "      <td>...</td>\n",
       "      <td>77.0</td>\n",
       "      <td>81.0</td>\n",
       "      <td>83.0</td>\n",
       "      <td>15</td>\n",
       "      <td>12</td>\n",
       "      <td>10</td>\n",
       "      <td>7</td>\n",
       "      <td>10</td>\n",
       "      <td>NaN</td>\n",
       "      <td>47</td>\n",
       "    </tr>\n",
       "    <tr>\n",
       "      <th>3</th>\n",
       "      <td>188545</td>\n",
       "      <td>17</td>\n",
       "      <td>R. Lewandowski</td>\n",
       "      <td>Robert Lewandowski</td>\n",
       "      <td>ST</td>\n",
       "      <td>90</td>\n",
       "      <td>71000000.0</td>\n",
       "      <td>250000.0</td>\n",
       "      <td>27</td>\n",
       "      <td>185</td>\n",
       "      <td>...</td>\n",
       "      <td>85.0</td>\n",
       "      <td>38.0</td>\n",
       "      <td>82.0</td>\n",
       "      <td>15</td>\n",
       "      <td>6</td>\n",
       "      <td>12</td>\n",
       "      <td>8</td>\n",
       "      <td>10</td>\n",
       "      <td>NaN</td>\n",
       "      <td>45</td>\n",
       "    </tr>\n",
       "    <tr>\n",
       "      <th>7</th>\n",
       "      <td>202126</td>\n",
       "      <td>17</td>\n",
       "      <td>H. Kane</td>\n",
       "      <td>Harry Kane</td>\n",
       "      <td>ST</td>\n",
       "      <td>84</td>\n",
       "      <td>41000000.0</td>\n",
       "      <td>140000.0</td>\n",
       "      <td>22</td>\n",
       "      <td>188</td>\n",
       "      <td>...</td>\n",
       "      <td>78.0</td>\n",
       "      <td>42.0</td>\n",
       "      <td>81.0</td>\n",
       "      <td>8</td>\n",
       "      <td>10</td>\n",
       "      <td>11</td>\n",
       "      <td>14</td>\n",
       "      <td>11</td>\n",
       "      <td>NaN</td>\n",
       "      <td>36</td>\n",
       "    </tr>\n",
       "  </tbody>\n",
       "</table>\n",
       "<p>10 rows × 31 columns</p>\n",
       "</div>"
      ],
      "text/plain": [
       "   player_id  fifa_version         short_name  \\\n",
       "0      20801            17  Cristiano Ronaldo   \n",
       "1     158023            17           L. Messi   \n",
       "2     190871            17             Neymar   \n",
       "6       1179            17          G. Buffon   \n",
       "5     177003            17          L. Modrić   \n",
       "4     155862            17       Sergio Ramos   \n",
       "9     231747            17   K. Mbappe Lottin   \n",
       "8     215914            17           N. Kanté   \n",
       "3     188545            17     R. Lewandowski   \n",
       "7     202126            17            H. Kane   \n",
       "\n",
       "                             long_name player_positions  overall    value_eur  \\\n",
       "0  Cristiano Ronaldo dos Santos Aveiro               LW       94   87000000.0   \n",
       "1       Lionel Andrés Messi Cuccittini               RW       93   89000000.0   \n",
       "2        Neymar da Silva Santos Júnior               LW       92  109000000.0   \n",
       "6                     Gianluigi Buffon               GK       88    9000000.0   \n",
       "5                          Luka Modrić               CM       89   54000000.0   \n",
       "4                  Sergio Ramos García               CB       89   43500000.0   \n",
       "9                 Kylian Mbappé Lottin               LW       71    3100000.0   \n",
       "8                         N'Golo Kanté               CM       81   21000000.0   \n",
       "3                   Robert Lewandowski               ST       90   71000000.0   \n",
       "7                           Harry Kane               ST       84   41000000.0   \n",
       "\n",
       "   wage_eur  age  height_cm  ...  dribbling defending physic  \\\n",
       "0  575000.0   31        185  ...       91.0      33.0   80.0   \n",
       "1  575000.0   29        170  ...       96.0      26.0   61.0   \n",
       "2  450000.0   24        174  ...       95.0      30.0   56.0   \n",
       "6  120000.0   38        192  ...        NaN       NaN    NaN   \n",
       "5  325000.0   30        174  ...       89.0      72.0   66.0   \n",
       "4  300000.0   30        183  ...       71.0      87.0   83.0   \n",
       "9   20000.0   17        178  ...       74.0      39.0   62.0   \n",
       "8  130000.0   25        169  ...       77.0      81.0   83.0   \n",
       "3  250000.0   27        185  ...       85.0      38.0   82.0   \n",
       "7  140000.0   22        188  ...       78.0      42.0   81.0   \n",
       "\n",
       "  goalkeeping_diving  goalkeeping_handling goalkeeping_kicking  \\\n",
       "0                  7                    11                  15   \n",
       "1                  6                    11                  15   \n",
       "2                  9                     9                  15   \n",
       "6                 87                    88                  68   \n",
       "5                 13                     9                   7   \n",
       "4                 11                     8                   9   \n",
       "9                 13                     5                   7   \n",
       "8                 15                    12                  10   \n",
       "3                 15                     6                  12   \n",
       "7                  8                    10                  11   \n",
       "\n",
       "  goalkeeping_positioning  goalkeeping_reflexes  goalkeeping_speed  points  \n",
       "0                      14                    11                NaN     946  \n",
       "1                      14                     8                NaN     670  \n",
       "2                      15                    11                NaN     361  \n",
       "6                      90                    84               46.0     221  \n",
       "5                      14                     9                NaN      84  \n",
       "4                       7                    11                NaN      71  \n",
       "9                      11                     6                NaN      48  \n",
       "8                       7                    10                NaN      47  \n",
       "3                       8                    10                NaN      45  \n",
       "7                      14                    11                NaN      36  \n",
       "\n",
       "[10 rows x 31 columns]"
      ]
     },
     "execution_count": 63,
     "metadata": {},
     "output_type": "execute_result"
    }
   ],
   "source": [
    "fifa17 = fifa17.sort_values(by=['points'], ascending = False)\n",
    "fifa17"
   ]
  },
  {
   "cell_type": "code",
   "execution_count": 19,
   "metadata": {},
   "outputs": [
    {
     "data": {
      "application/vnd.plotly.v1+json": {
       "config": {
        "plotlyServerURL": "https://plot.ly"
       },
       "data": [
        {
         "hovertemplate": "x=%{x}<br>y=%{y}<extra></extra>",
         "legendgroup": "",
         "line": {
          "color": "#636efa",
          "dash": "solid"
         },
         "marker": {
          "symbol": "circle"
         },
         "mode": "lines",
         "name": "",
         "orientation": "v",
         "showlegend": false,
         "type": "scatter",
         "x": [
          "Cristiano Ronaldo",
          "L. Messi",
          "Neymar",
          "G. Buffon",
          "L. Modrić",
          "Sergio Ramos",
          "K. Mbappe Lottin",
          "N. Kanté",
          "R. Lewandowski",
          "H. Kane"
         ],
         "xaxis": "x",
         "y": [
          94,
          93,
          92,
          88,
          89,
          89,
          71,
          81,
          90,
          84
         ],
         "yaxis": "y"
        },
        {
         "type": "bar",
         "x": [
          "Cristiano Ronaldo",
          "L. Messi",
          "Neymar",
          "G. Buffon",
          "L. Modrić",
          "Sergio Ramos",
          "K. Mbappe Lottin",
          "N. Kanté",
          "R. Lewandowski",
          "H. Kane"
         ],
         "y": [
          946,
          670,
          361,
          221,
          84,
          71,
          48,
          47,
          45,
          36
         ]
        }
       ],
       "layout": {
        "legend": {
         "tracegroupgap": 0
        },
        "margin": {
         "t": 60
        },
        "template": {
         "data": {
          "bar": [
           {
            "error_x": {
             "color": "#2a3f5f"
            },
            "error_y": {
             "color": "#2a3f5f"
            },
            "marker": {
             "line": {
              "color": "#E5ECF6",
              "width": 0.5
             },
             "pattern": {
              "fillmode": "overlay",
              "size": 10,
              "solidity": 0.2
             }
            },
            "type": "bar"
           }
          ],
          "barpolar": [
           {
            "marker": {
             "line": {
              "color": "#E5ECF6",
              "width": 0.5
             },
             "pattern": {
              "fillmode": "overlay",
              "size": 10,
              "solidity": 0.2
             }
            },
            "type": "barpolar"
           }
          ],
          "carpet": [
           {
            "aaxis": {
             "endlinecolor": "#2a3f5f",
             "gridcolor": "white",
             "linecolor": "white",
             "minorgridcolor": "white",
             "startlinecolor": "#2a3f5f"
            },
            "baxis": {
             "endlinecolor": "#2a3f5f",
             "gridcolor": "white",
             "linecolor": "white",
             "minorgridcolor": "white",
             "startlinecolor": "#2a3f5f"
            },
            "type": "carpet"
           }
          ],
          "choropleth": [
           {
            "colorbar": {
             "outlinewidth": 0,
             "ticks": ""
            },
            "type": "choropleth"
           }
          ],
          "contour": [
           {
            "colorbar": {
             "outlinewidth": 0,
             "ticks": ""
            },
            "colorscale": [
             [
              0,
              "#0d0887"
             ],
             [
              0.1111111111111111,
              "#46039f"
             ],
             [
              0.2222222222222222,
              "#7201a8"
             ],
             [
              0.3333333333333333,
              "#9c179e"
             ],
             [
              0.4444444444444444,
              "#bd3786"
             ],
             [
              0.5555555555555556,
              "#d8576b"
             ],
             [
              0.6666666666666666,
              "#ed7953"
             ],
             [
              0.7777777777777778,
              "#fb9f3a"
             ],
             [
              0.8888888888888888,
              "#fdca26"
             ],
             [
              1,
              "#f0f921"
             ]
            ],
            "type": "contour"
           }
          ],
          "contourcarpet": [
           {
            "colorbar": {
             "outlinewidth": 0,
             "ticks": ""
            },
            "type": "contourcarpet"
           }
          ],
          "heatmap": [
           {
            "colorbar": {
             "outlinewidth": 0,
             "ticks": ""
            },
            "colorscale": [
             [
              0,
              "#0d0887"
             ],
             [
              0.1111111111111111,
              "#46039f"
             ],
             [
              0.2222222222222222,
              "#7201a8"
             ],
             [
              0.3333333333333333,
              "#9c179e"
             ],
             [
              0.4444444444444444,
              "#bd3786"
             ],
             [
              0.5555555555555556,
              "#d8576b"
             ],
             [
              0.6666666666666666,
              "#ed7953"
             ],
             [
              0.7777777777777778,
              "#fb9f3a"
             ],
             [
              0.8888888888888888,
              "#fdca26"
             ],
             [
              1,
              "#f0f921"
             ]
            ],
            "type": "heatmap"
           }
          ],
          "heatmapgl": [
           {
            "colorbar": {
             "outlinewidth": 0,
             "ticks": ""
            },
            "colorscale": [
             [
              0,
              "#0d0887"
             ],
             [
              0.1111111111111111,
              "#46039f"
             ],
             [
              0.2222222222222222,
              "#7201a8"
             ],
             [
              0.3333333333333333,
              "#9c179e"
             ],
             [
              0.4444444444444444,
              "#bd3786"
             ],
             [
              0.5555555555555556,
              "#d8576b"
             ],
             [
              0.6666666666666666,
              "#ed7953"
             ],
             [
              0.7777777777777778,
              "#fb9f3a"
             ],
             [
              0.8888888888888888,
              "#fdca26"
             ],
             [
              1,
              "#f0f921"
             ]
            ],
            "type": "heatmapgl"
           }
          ],
          "histogram": [
           {
            "marker": {
             "pattern": {
              "fillmode": "overlay",
              "size": 10,
              "solidity": 0.2
             }
            },
            "type": "histogram"
           }
          ],
          "histogram2d": [
           {
            "colorbar": {
             "outlinewidth": 0,
             "ticks": ""
            },
            "colorscale": [
             [
              0,
              "#0d0887"
             ],
             [
              0.1111111111111111,
              "#46039f"
             ],
             [
              0.2222222222222222,
              "#7201a8"
             ],
             [
              0.3333333333333333,
              "#9c179e"
             ],
             [
              0.4444444444444444,
              "#bd3786"
             ],
             [
              0.5555555555555556,
              "#d8576b"
             ],
             [
              0.6666666666666666,
              "#ed7953"
             ],
             [
              0.7777777777777778,
              "#fb9f3a"
             ],
             [
              0.8888888888888888,
              "#fdca26"
             ],
             [
              1,
              "#f0f921"
             ]
            ],
            "type": "histogram2d"
           }
          ],
          "histogram2dcontour": [
           {
            "colorbar": {
             "outlinewidth": 0,
             "ticks": ""
            },
            "colorscale": [
             [
              0,
              "#0d0887"
             ],
             [
              0.1111111111111111,
              "#46039f"
             ],
             [
              0.2222222222222222,
              "#7201a8"
             ],
             [
              0.3333333333333333,
              "#9c179e"
             ],
             [
              0.4444444444444444,
              "#bd3786"
             ],
             [
              0.5555555555555556,
              "#d8576b"
             ],
             [
              0.6666666666666666,
              "#ed7953"
             ],
             [
              0.7777777777777778,
              "#fb9f3a"
             ],
             [
              0.8888888888888888,
              "#fdca26"
             ],
             [
              1,
              "#f0f921"
             ]
            ],
            "type": "histogram2dcontour"
           }
          ],
          "mesh3d": [
           {
            "colorbar": {
             "outlinewidth": 0,
             "ticks": ""
            },
            "type": "mesh3d"
           }
          ],
          "parcoords": [
           {
            "line": {
             "colorbar": {
              "outlinewidth": 0,
              "ticks": ""
             }
            },
            "type": "parcoords"
           }
          ],
          "pie": [
           {
            "automargin": true,
            "type": "pie"
           }
          ],
          "scatter": [
           {
            "fillpattern": {
             "fillmode": "overlay",
             "size": 10,
             "solidity": 0.2
            },
            "type": "scatter"
           }
          ],
          "scatter3d": [
           {
            "line": {
             "colorbar": {
              "outlinewidth": 0,
              "ticks": ""
             }
            },
            "marker": {
             "colorbar": {
              "outlinewidth": 0,
              "ticks": ""
             }
            },
            "type": "scatter3d"
           }
          ],
          "scattercarpet": [
           {
            "marker": {
             "colorbar": {
              "outlinewidth": 0,
              "ticks": ""
             }
            },
            "type": "scattercarpet"
           }
          ],
          "scattergeo": [
           {
            "marker": {
             "colorbar": {
              "outlinewidth": 0,
              "ticks": ""
             }
            },
            "type": "scattergeo"
           }
          ],
          "scattergl": [
           {
            "marker": {
             "colorbar": {
              "outlinewidth": 0,
              "ticks": ""
             }
            },
            "type": "scattergl"
           }
          ],
          "scattermapbox": [
           {
            "marker": {
             "colorbar": {
              "outlinewidth": 0,
              "ticks": ""
             }
            },
            "type": "scattermapbox"
           }
          ],
          "scatterpolar": [
           {
            "marker": {
             "colorbar": {
              "outlinewidth": 0,
              "ticks": ""
             }
            },
            "type": "scatterpolar"
           }
          ],
          "scatterpolargl": [
           {
            "marker": {
             "colorbar": {
              "outlinewidth": 0,
              "ticks": ""
             }
            },
            "type": "scatterpolargl"
           }
          ],
          "scatterternary": [
           {
            "marker": {
             "colorbar": {
              "outlinewidth": 0,
              "ticks": ""
             }
            },
            "type": "scatterternary"
           }
          ],
          "surface": [
           {
            "colorbar": {
             "outlinewidth": 0,
             "ticks": ""
            },
            "colorscale": [
             [
              0,
              "#0d0887"
             ],
             [
              0.1111111111111111,
              "#46039f"
             ],
             [
              0.2222222222222222,
              "#7201a8"
             ],
             [
              0.3333333333333333,
              "#9c179e"
             ],
             [
              0.4444444444444444,
              "#bd3786"
             ],
             [
              0.5555555555555556,
              "#d8576b"
             ],
             [
              0.6666666666666666,
              "#ed7953"
             ],
             [
              0.7777777777777778,
              "#fb9f3a"
             ],
             [
              0.8888888888888888,
              "#fdca26"
             ],
             [
              1,
              "#f0f921"
             ]
            ],
            "type": "surface"
           }
          ],
          "table": [
           {
            "cells": {
             "fill": {
              "color": "#EBF0F8"
             },
             "line": {
              "color": "white"
             }
            },
            "header": {
             "fill": {
              "color": "#C8D4E3"
             },
             "line": {
              "color": "white"
             }
            },
            "type": "table"
           }
          ]
         },
         "layout": {
          "annotationdefaults": {
           "arrowcolor": "#2a3f5f",
           "arrowhead": 0,
           "arrowwidth": 1
          },
          "autotypenumbers": "strict",
          "coloraxis": {
           "colorbar": {
            "outlinewidth": 0,
            "ticks": ""
           }
          },
          "colorscale": {
           "diverging": [
            [
             0,
             "#8e0152"
            ],
            [
             0.1,
             "#c51b7d"
            ],
            [
             0.2,
             "#de77ae"
            ],
            [
             0.3,
             "#f1b6da"
            ],
            [
             0.4,
             "#fde0ef"
            ],
            [
             0.5,
             "#f7f7f7"
            ],
            [
             0.6,
             "#e6f5d0"
            ],
            [
             0.7,
             "#b8e186"
            ],
            [
             0.8,
             "#7fbc41"
            ],
            [
             0.9,
             "#4d9221"
            ],
            [
             1,
             "#276419"
            ]
           ],
           "sequential": [
            [
             0,
             "#0d0887"
            ],
            [
             0.1111111111111111,
             "#46039f"
            ],
            [
             0.2222222222222222,
             "#7201a8"
            ],
            [
             0.3333333333333333,
             "#9c179e"
            ],
            [
             0.4444444444444444,
             "#bd3786"
            ],
            [
             0.5555555555555556,
             "#d8576b"
            ],
            [
             0.6666666666666666,
             "#ed7953"
            ],
            [
             0.7777777777777778,
             "#fb9f3a"
            ],
            [
             0.8888888888888888,
             "#fdca26"
            ],
            [
             1,
             "#f0f921"
            ]
           ],
           "sequentialminus": [
            [
             0,
             "#0d0887"
            ],
            [
             0.1111111111111111,
             "#46039f"
            ],
            [
             0.2222222222222222,
             "#7201a8"
            ],
            [
             0.3333333333333333,
             "#9c179e"
            ],
            [
             0.4444444444444444,
             "#bd3786"
            ],
            [
             0.5555555555555556,
             "#d8576b"
            ],
            [
             0.6666666666666666,
             "#ed7953"
            ],
            [
             0.7777777777777778,
             "#fb9f3a"
            ],
            [
             0.8888888888888888,
             "#fdca26"
            ],
            [
             1,
             "#f0f921"
            ]
           ]
          },
          "colorway": [
           "#636efa",
           "#EF553B",
           "#00cc96",
           "#ab63fa",
           "#FFA15A",
           "#19d3f3",
           "#FF6692",
           "#B6E880",
           "#FF97FF",
           "#FECB52"
          ],
          "font": {
           "color": "#2a3f5f"
          },
          "geo": {
           "bgcolor": "white",
           "lakecolor": "white",
           "landcolor": "#E5ECF6",
           "showlakes": true,
           "showland": true,
           "subunitcolor": "white"
          },
          "hoverlabel": {
           "align": "left"
          },
          "hovermode": "closest",
          "mapbox": {
           "style": "light"
          },
          "paper_bgcolor": "white",
          "plot_bgcolor": "#E5ECF6",
          "polar": {
           "angularaxis": {
            "gridcolor": "white",
            "linecolor": "white",
            "ticks": ""
           },
           "bgcolor": "#E5ECF6",
           "radialaxis": {
            "gridcolor": "white",
            "linecolor": "white",
            "ticks": ""
           }
          },
          "scene": {
           "xaxis": {
            "backgroundcolor": "#E5ECF6",
            "gridcolor": "white",
            "gridwidth": 2,
            "linecolor": "white",
            "showbackground": true,
            "ticks": "",
            "zerolinecolor": "white"
           },
           "yaxis": {
            "backgroundcolor": "#E5ECF6",
            "gridcolor": "white",
            "gridwidth": 2,
            "linecolor": "white",
            "showbackground": true,
            "ticks": "",
            "zerolinecolor": "white"
           },
           "zaxis": {
            "backgroundcolor": "#E5ECF6",
            "gridcolor": "white",
            "gridwidth": 2,
            "linecolor": "white",
            "showbackground": true,
            "ticks": "",
            "zerolinecolor": "white"
           }
          },
          "shapedefaults": {
           "line": {
            "color": "#2a3f5f"
           }
          },
          "ternary": {
           "aaxis": {
            "gridcolor": "white",
            "linecolor": "white",
            "ticks": ""
           },
           "baxis": {
            "gridcolor": "white",
            "linecolor": "white",
            "ticks": ""
           },
           "bgcolor": "#E5ECF6",
           "caxis": {
            "gridcolor": "white",
            "linecolor": "white",
            "ticks": ""
           }
          },
          "title": {
           "x": 0.05
          },
          "xaxis": {
           "automargin": true,
           "gridcolor": "white",
           "linecolor": "white",
           "ticks": "",
           "title": {
            "standoff": 15
           },
           "zerolinecolor": "white",
           "zerolinewidth": 2
          },
          "yaxis": {
           "automargin": true,
           "gridcolor": "white",
           "linecolor": "white",
           "ticks": "",
           "title": {
            "standoff": 15
           },
           "zerolinecolor": "white",
           "zerolinewidth": 2
          }
         }
        },
        "xaxis": {
         "anchor": "y",
         "domain": [
          0,
          1
         ],
         "title": {
          "text": "x"
         }
        },
        "yaxis": {
         "anchor": "x",
         "domain": [
          0,
          1
         ],
         "title": {
          "text": "y"
         }
        }
       }
      }
     },
     "metadata": {},
     "output_type": "display_data"
    }
   ],
   "source": [
    "fig = px.line(x=fifa17['short_name'], y=fifa17['overall'])\n",
    "fig.add_bar(x=fifa17['short_name'], y=fifa17['points'])\n",
    "fig.show()\n"
   ]
  },
  {
   "cell_type": "code",
   "execution_count": 57,
   "metadata": {},
   "outputs": [
    {
     "data": {
      "image/png": "[encoded data removed]",
      "text/plain": [
       "<Figure size 1200x600 with 1 Axes>"
      ]
     },
     "metadata": {},
     "output_type": "display_data"
    }
   ],
   "source": [
    "import matplotlib\n",
    "import matplotlib.pyplot as plt\n",
    "import seaborn as sns\n",
    "\n",
    "matplotlib.rc_file_defaults()\n",
    "ax1 = sns.set_style(style=None, rc=None )\n",
    "\n",
    "fig, ax1 = plt.subplots(figsize=(12,6))"
   ]
  },
  {
   "cell_type": "code",
   "execution_count": 59,
   "metadata": {},
   "outputs": [
    {
     "data": {
      "text/plain": [
       "<AxesSubplot: xlabel='short_name', ylabel='points'>"
      ]
     },
     "execution_count": 59,
     "metadata": {},
     "output_type": "execute_result"
    },
    {
     "data": {
      "image/png": "[encoded data removed]",
      "text/plain": [
       "<Figure size 1200x600 with 2 Axes>"
      ]
     },
     "metadata": {},
     "output_type": "display_data"
    }
   ],
   "source": [
    "fig, ax1 = plt.subplots(figsize=(12,6))\n",
    "\n",
    "sns.lineplot(data = fifa17['overall'], marker='o', sort = False, ax=ax1)\n",
    "ax2 = ax1.twinx()\n",
    "\n",
    "sns.barplot(data = fifa17, x=fifa17['short_name'], y=fifa17['points'], alpha=0.5, ax=ax2)"
   ]
  },
  {
   "cell_type": "code",
   "execution_count": 24,
   "metadata": {},
   "outputs": [
    {
     "name": "stderr",
     "output_type": "stream",
     "text": [
      "/var/folders/lr/stnkft6j5ps6pysrw7v0cgp80000gn/T/ipykernel_1665/4174595150.py:1: FutureWarning:\n",
      "\n",
      "The default value of numeric_only in DataFrame.corr is deprecated. In a future version, it will default to False. Select only valid columns or specify the value of numeric_only to silence this warning.\n",
      "\n"
     ]
    }
   ],
   "source": [
    "x = fifa17.corr()['points']\n"
   ]
  },
  {
   "cell_type": "code",
   "execution_count": 50,
   "metadata": {},
   "outputs": [],
   "source": [
    "X = fifa17[['overall', 'height_cm']]\n",
    "Y = fifa17['points']"
   ]
  },
  {
   "cell_type": "code",
   "execution_count": 51,
   "metadata": {},
   "outputs": [],
   "source": [
    "X = sm.add_constant(X)"
   ]
  },
  {
   "cell_type": "code",
   "execution_count": 52,
   "metadata": {},
   "outputs": [],
   "source": [
    "res = sm.OLS(Y, X).fit()"
   ]
  },
  {
   "cell_type": "code",
   "execution_count": 53,
   "metadata": {},
   "outputs": [
    {
     "name": "stderr",
     "output_type": "stream",
     "text": [
      "/Users/gerardrius/opt/anaconda3/envs/ironhack/lib/python3.9/site-packages/scipy/stats/_stats_py.py:1772: UserWarning:\n",
      "\n",
      "kurtosistest only valid for n>=20 ... continuing anyway, n=10\n",
      "\n"
     ]
    },
    {
     "data": {
      "text/html": [
       "<table class=\"simpletable\">\n",
       "<caption>OLS Regression Results</caption>\n",
       "<tr>\n",
       "  <th>Dep. Variable:</th>         <td>points</td>      <th>  R-squared:         </th> <td>   0.365</td>\n",
       "</tr>\n",
       "<tr>\n",
       "  <th>Model:</th>                   <td>OLS</td>       <th>  Adj. R-squared:    </th> <td>   0.184</td>\n",
       "</tr>\n",
       "<tr>\n",
       "  <th>Method:</th>             <td>Least Squares</td>  <th>  F-statistic:       </th> <td>   2.016</td>\n",
       "</tr>\n",
       "<tr>\n",
       "  <th>Date:</th>             <td>Sun, 05 Feb 2023</td> <th>  Prob (F-statistic):</th>  <td> 0.204</td> \n",
       "</tr>\n",
       "<tr>\n",
       "  <th>Time:</th>                 <td>13:58:44</td>     <th>  Log-Likelihood:    </th> <td> -68.971</td>\n",
       "</tr>\n",
       "<tr>\n",
       "  <th>No. Observations:</th>      <td>    10</td>      <th>  AIC:               </th> <td>   143.9</td>\n",
       "</tr>\n",
       "<tr>\n",
       "  <th>Df Residuals:</th>          <td>     7</td>      <th>  BIC:               </th> <td>   144.9</td>\n",
       "</tr>\n",
       "<tr>\n",
       "  <th>Df Model:</th>              <td>     2</td>      <th>                     </th>     <td> </td>   \n",
       "</tr>\n",
       "<tr>\n",
       "  <th>Covariance Type:</th>      <td>nonrobust</td>    <th>                     </th>     <td> </td>   \n",
       "</tr>\n",
       "</table>\n",
       "<table class=\"simpletable\">\n",
       "<tr>\n",
       "      <td></td>         <th>coef</th>     <th>std err</th>      <th>t</th>      <th>P>|t|</th>  <th>[0.025</th>    <th>0.975]</th>  \n",
       "</tr>\n",
       "<tr>\n",
       "  <th>const</th>     <td>-1367.4907</td> <td> 2401.111</td> <td>   -0.570</td> <td> 0.587</td> <td>-7045.215</td> <td> 4310.234</td>\n",
       "</tr>\n",
       "<tr>\n",
       "  <th>overall</th>   <td>   27.6968</td> <td>   13.864</td> <td>    1.998</td> <td> 0.086</td> <td>   -5.085</td> <td>   60.479</td>\n",
       "</tr>\n",
       "<tr>\n",
       "  <th>height_cm</th> <td>   -4.4049</td> <td>   12.094</td> <td>   -0.364</td> <td> 0.726</td> <td>  -33.003</td> <td>   24.193</td>\n",
       "</tr>\n",
       "</table>\n",
       "<table class=\"simpletable\">\n",
       "<tr>\n",
       "  <th>Omnibus:</th>       <td> 2.754</td> <th>  Durbin-Watson:     </th> <td>   1.046</td>\n",
       "</tr>\n",
       "<tr>\n",
       "  <th>Prob(Omnibus):</th> <td> 0.252</td> <th>  Jarque-Bera (JB):  </th> <td>   1.302</td>\n",
       "</tr>\n",
       "<tr>\n",
       "  <th>Skew:</th>          <td> 0.878</td> <th>  Prob(JB):          </th> <td>   0.521</td>\n",
       "</tr>\n",
       "<tr>\n",
       "  <th>Kurtosis:</th>      <td> 2.801</td> <th>  Cond. No.          </th> <td>5.31e+03</td>\n",
       "</tr>\n",
       "</table><br/><br/>Notes:<br/>[1] Standard Errors assume that the covariance matrix of the errors is correctly specified.<br/>[2] The condition number is large, 5.31e+03. This might indicate that there are<br/>strong multicollinearity or other numerical problems."
      ],
      "text/plain": [
       "<class 'statsmodels.iolib.summary.Summary'>\n",
       "\"\"\"\n",
       "                            OLS Regression Results                            \n",
       "==============================================================================\n",
       "Dep. Variable:                 points   R-squared:                       0.365\n",
       "Model:                            OLS   Adj. R-squared:                  0.184\n",
       "Method:                 Least Squares   F-statistic:                     2.016\n",
       "Date:                Sun, 05 Feb 2023   Prob (F-statistic):              0.204\n",
       "Time:                        13:58:44   Log-Likelihood:                -68.971\n",
       "No. Observations:                  10   AIC:                             143.9\n",
       "Df Residuals:                       7   BIC:                             144.9\n",
       "Df Model:                           2                                         \n",
       "Covariance Type:            nonrobust                                         \n",
       "==============================================================================\n",
       "                 coef    std err          t      P>|t|      [0.025      0.975]\n",
       "------------------------------------------------------------------------------\n",
       "const      -1367.4907   2401.111     -0.570      0.587   -7045.215    4310.234\n",
       "overall       27.6968     13.864      1.998      0.086      -5.085      60.479\n",
       "height_cm     -4.4049     12.094     -0.364      0.726     -33.003      24.193\n",
       "==============================================================================\n",
       "Omnibus:                        2.754   Durbin-Watson:                   1.046\n",
       "Prob(Omnibus):                  0.252   Jarque-Bera (JB):                1.302\n",
       "Skew:                           0.878   Prob(JB):                        0.521\n",
       "Kurtosis:                       2.801   Cond. No.                     5.31e+03\n",
       "==============================================================================\n",
       "\n",
       "Notes:\n",
       "[1] Standard Errors assume that the covariance matrix of the errors is correctly specified.\n",
       "[2] The condition number is large, 5.31e+03. This might indicate that there are\n",
       "strong multicollinearity or other numerical problems.\n",
       "\"\"\""
      ]
     },
     "execution_count": 53,
     "metadata": {},
     "output_type": "execute_result"
    }
   ],
   "source": [
    "res.summary()"
   ]
  },
  {
   "cell_type": "code",
   "execution_count": 60,
   "metadata": {},
   "outputs": [
    {
     "data": {
      "text/html": [
       "<div>\n",
       "<style scoped>\n",
       "    .dataframe tbody tr th:only-of-type {\n",
       "        vertical-align: middle;\n",
       "    }\n",
       "\n",
       "    .dataframe tbody tr th {\n",
       "        vertical-align: top;\n",
       "    }\n",
       "\n",
       "    .dataframe thead th {\n",
       "        text-align: right;\n",
       "    }\n",
       "</style>\n",
       "<table border=\"1\" class=\"dataframe\">\n",
       "  <thead>\n",
       "    <tr style=\"text-align: right;\">\n",
       "      <th></th>\n",
       "      <th>player_id</th>\n",
       "      <th>fifa_version</th>\n",
       "      <th>short_name</th>\n",
       "      <th>long_name</th>\n",
       "      <th>player_positions</th>\n",
       "      <th>overall</th>\n",
       "      <th>value_eur</th>\n",
       "      <th>wage_eur</th>\n",
       "      <th>age</th>\n",
       "      <th>height_cm</th>\n",
       "      <th>...</th>\n",
       "      <th>dribbling</th>\n",
       "      <th>defending</th>\n",
       "      <th>physic</th>\n",
       "      <th>goalkeeping_diving</th>\n",
       "      <th>goalkeeping_handling</th>\n",
       "      <th>goalkeeping_kicking</th>\n",
       "      <th>goalkeeping_positioning</th>\n",
       "      <th>goalkeeping_reflexes</th>\n",
       "      <th>goalkeeping_speed</th>\n",
       "      <th>points</th>\n",
       "    </tr>\n",
       "  </thead>\n",
       "  <tbody>\n",
       "    <tr>\n",
       "      <th>0</th>\n",
       "      <td>20801</td>\n",
       "      <td>17</td>\n",
       "      <td>Cristiano Ronaldo</td>\n",
       "      <td>Cristiano Ronaldo dos Santos Aveiro</td>\n",
       "      <td>LW</td>\n",
       "      <td>94</td>\n",
       "      <td>87000000.0</td>\n",
       "      <td>575000.0</td>\n",
       "      <td>31</td>\n",
       "      <td>185</td>\n",
       "      <td>...</td>\n",
       "      <td>91.0</td>\n",
       "      <td>33.0</td>\n",
       "      <td>80.0</td>\n",
       "      <td>7</td>\n",
       "      <td>11</td>\n",
       "      <td>15</td>\n",
       "      <td>14</td>\n",
       "      <td>11</td>\n",
       "      <td>NaN</td>\n",
       "      <td>946</td>\n",
       "    </tr>\n",
       "    <tr>\n",
       "      <th>1</th>\n",
       "      <td>158023</td>\n",
       "      <td>17</td>\n",
       "      <td>L. Messi</td>\n",
       "      <td>Lionel Andrés Messi Cuccittini</td>\n",
       "      <td>RW</td>\n",
       "      <td>93</td>\n",
       "      <td>89000000.0</td>\n",
       "      <td>575000.0</td>\n",
       "      <td>29</td>\n",
       "      <td>170</td>\n",
       "      <td>...</td>\n",
       "      <td>96.0</td>\n",
       "      <td>26.0</td>\n",
       "      <td>61.0</td>\n",
       "      <td>6</td>\n",
       "      <td>11</td>\n",
       "      <td>15</td>\n",
       "      <td>14</td>\n",
       "      <td>8</td>\n",
       "      <td>NaN</td>\n",
       "      <td>670</td>\n",
       "    </tr>\n",
       "    <tr>\n",
       "      <th>2</th>\n",
       "      <td>190871</td>\n",
       "      <td>17</td>\n",
       "      <td>Neymar</td>\n",
       "      <td>Neymar da Silva Santos Júnior</td>\n",
       "      <td>LW</td>\n",
       "      <td>92</td>\n",
       "      <td>109000000.0</td>\n",
       "      <td>450000.0</td>\n",
       "      <td>24</td>\n",
       "      <td>174</td>\n",
       "      <td>...</td>\n",
       "      <td>95.0</td>\n",
       "      <td>30.0</td>\n",
       "      <td>56.0</td>\n",
       "      <td>9</td>\n",
       "      <td>9</td>\n",
       "      <td>15</td>\n",
       "      <td>15</td>\n",
       "      <td>11</td>\n",
       "      <td>NaN</td>\n",
       "      <td>361</td>\n",
       "    </tr>\n",
       "    <tr>\n",
       "      <th>6</th>\n",
       "      <td>1179</td>\n",
       "      <td>17</td>\n",
       "      <td>G. Buffon</td>\n",
       "      <td>Gianluigi Buffon</td>\n",
       "      <td>GK</td>\n",
       "      <td>88</td>\n",
       "      <td>9000000.0</td>\n",
       "      <td>120000.0</td>\n",
       "      <td>38</td>\n",
       "      <td>192</td>\n",
       "      <td>...</td>\n",
       "      <td>NaN</td>\n",
       "      <td>NaN</td>\n",
       "      <td>NaN</td>\n",
       "      <td>87</td>\n",
       "      <td>88</td>\n",
       "      <td>68</td>\n",
       "      <td>90</td>\n",
       "      <td>84</td>\n",
       "      <td>46.0</td>\n",
       "      <td>221</td>\n",
       "    </tr>\n",
       "    <tr>\n",
       "      <th>5</th>\n",
       "      <td>177003</td>\n",
       "      <td>17</td>\n",
       "      <td>L. Modrić</td>\n",
       "      <td>Luka Modrić</td>\n",
       "      <td>CM</td>\n",
       "      <td>89</td>\n",
       "      <td>54000000.0</td>\n",
       "      <td>325000.0</td>\n",
       "      <td>30</td>\n",
       "      <td>174</td>\n",
       "      <td>...</td>\n",
       "      <td>89.0</td>\n",
       "      <td>72.0</td>\n",
       "      <td>66.0</td>\n",
       "      <td>13</td>\n",
       "      <td>9</td>\n",
       "      <td>7</td>\n",
       "      <td>14</td>\n",
       "      <td>9</td>\n",
       "      <td>NaN</td>\n",
       "      <td>84</td>\n",
       "    </tr>\n",
       "    <tr>\n",
       "      <th>4</th>\n",
       "      <td>155862</td>\n",
       "      <td>17</td>\n",
       "      <td>Sergio Ramos</td>\n",
       "      <td>Sergio Ramos García</td>\n",
       "      <td>CB</td>\n",
       "      <td>89</td>\n",
       "      <td>43500000.0</td>\n",
       "      <td>300000.0</td>\n",
       "      <td>30</td>\n",
       "      <td>183</td>\n",
       "      <td>...</td>\n",
       "      <td>71.0</td>\n",
       "      <td>87.0</td>\n",
       "      <td>83.0</td>\n",
       "      <td>11</td>\n",
       "      <td>8</td>\n",
       "      <td>9</td>\n",
       "      <td>7</td>\n",
       "      <td>11</td>\n",
       "      <td>NaN</td>\n",
       "      <td>71</td>\n",
       "    </tr>\n",
       "    <tr>\n",
       "      <th>9</th>\n",
       "      <td>231747</td>\n",
       "      <td>17</td>\n",
       "      <td>K. Mbappe Lottin</td>\n",
       "      <td>Kylian Mbappé Lottin</td>\n",
       "      <td>LW</td>\n",
       "      <td>71</td>\n",
       "      <td>3100000.0</td>\n",
       "      <td>20000.0</td>\n",
       "      <td>17</td>\n",
       "      <td>178</td>\n",
       "      <td>...</td>\n",
       "      <td>74.0</td>\n",
       "      <td>39.0</td>\n",
       "      <td>62.0</td>\n",
       "      <td>13</td>\n",
       "      <td>5</td>\n",
       "      <td>7</td>\n",
       "      <td>11</td>\n",
       "      <td>6</td>\n",
       "      <td>NaN</td>\n",
       "      <td>48</td>\n",
       "    </tr>\n",
       "    <tr>\n",
       "      <th>8</th>\n",
       "      <td>215914</td>\n",
       "      <td>17</td>\n",
       "      <td>N. Kanté</td>\n",
       "      <td>N'Golo Kanté</td>\n",
       "      <td>CM</td>\n",
       "      <td>81</td>\n",
       "      <td>21000000.0</td>\n",
       "      <td>130000.0</td>\n",
       "      <td>25</td>\n",
       "      <td>169</td>\n",
       "      <td>...</td>\n",
       "      <td>77.0</td>\n",
       "      <td>81.0</td>\n",
       "      <td>83.0</td>\n",
       "      <td>15</td>\n",
       "      <td>12</td>\n",
       "      <td>10</td>\n",
       "      <td>7</td>\n",
       "      <td>10</td>\n",
       "      <td>NaN</td>\n",
       "      <td>47</td>\n",
       "    </tr>\n",
       "    <tr>\n",
       "      <th>3</th>\n",
       "      <td>188545</td>\n",
       "      <td>17</td>\n",
       "      <td>R. Lewandowski</td>\n",
       "      <td>Robert Lewandowski</td>\n",
       "      <td>ST</td>\n",
       "      <td>90</td>\n",
       "      <td>71000000.0</td>\n",
       "      <td>250000.0</td>\n",
       "      <td>27</td>\n",
       "      <td>185</td>\n",
       "      <td>...</td>\n",
       "      <td>85.0</td>\n",
       "      <td>38.0</td>\n",
       "      <td>82.0</td>\n",
       "      <td>15</td>\n",
       "      <td>6</td>\n",
       "      <td>12</td>\n",
       "      <td>8</td>\n",
       "      <td>10</td>\n",
       "      <td>NaN</td>\n",
       "      <td>45</td>\n",
       "    </tr>\n",
       "    <tr>\n",
       "      <th>7</th>\n",
       "      <td>202126</td>\n",
       "      <td>17</td>\n",
       "      <td>H. Kane</td>\n",
       "      <td>Harry Kane</td>\n",
       "      <td>ST</td>\n",
       "      <td>84</td>\n",
       "      <td>41000000.0</td>\n",
       "      <td>140000.0</td>\n",
       "      <td>22</td>\n",
       "      <td>188</td>\n",
       "      <td>...</td>\n",
       "      <td>78.0</td>\n",
       "      <td>42.0</td>\n",
       "      <td>81.0</td>\n",
       "      <td>8</td>\n",
       "      <td>10</td>\n",
       "      <td>11</td>\n",
       "      <td>14</td>\n",
       "      <td>11</td>\n",
       "      <td>NaN</td>\n",
       "      <td>36</td>\n",
       "    </tr>\n",
       "  </tbody>\n",
       "</table>\n",
       "<p>10 rows × 31 columns</p>\n",
       "</div>"
      ],
      "text/plain": [
       "   player_id  fifa_version         short_name  \\\n",
       "0      20801            17  Cristiano Ronaldo   \n",
       "1     158023            17           L. Messi   \n",
       "2     190871            17             Neymar   \n",
       "6       1179            17          G. Buffon   \n",
       "5     177003            17          L. Modrić   \n",
       "4     155862            17       Sergio Ramos   \n",
       "9     231747            17   K. Mbappe Lottin   \n",
       "8     215914            17           N. Kanté   \n",
       "3     188545            17     R. Lewandowski   \n",
       "7     202126            17            H. Kane   \n",
       "\n",
       "                             long_name player_positions  overall    value_eur  \\\n",
       "0  Cristiano Ronaldo dos Santos Aveiro               LW       94   87000000.0   \n",
       "1       Lionel Andrés Messi Cuccittini               RW       93   89000000.0   \n",
       "2        Neymar da Silva Santos Júnior               LW       92  109000000.0   \n",
       "6                     Gianluigi Buffon               GK       88    9000000.0   \n",
       "5                          Luka Modrić               CM       89   54000000.0   \n",
       "4                  Sergio Ramos García               CB       89   43500000.0   \n",
       "9                 Kylian Mbappé Lottin               LW       71    3100000.0   \n",
       "8                         N'Golo Kanté               CM       81   21000000.0   \n",
       "3                   Robert Lewandowski               ST       90   71000000.0   \n",
       "7                           Harry Kane               ST       84   41000000.0   \n",
       "\n",
       "   wage_eur  age  height_cm  ...  dribbling defending physic  \\\n",
       "0  575000.0   31        185  ...       91.0      33.0   80.0   \n",
       "1  575000.0   29        170  ...       96.0      26.0   61.0   \n",
       "2  450000.0   24        174  ...       95.0      30.0   56.0   \n",
       "6  120000.0   38        192  ...        NaN       NaN    NaN   \n",
       "5  325000.0   30        174  ...       89.0      72.0   66.0   \n",
       "4  300000.0   30        183  ...       71.0      87.0   83.0   \n",
       "9   20000.0   17        178  ...       74.0      39.0   62.0   \n",
       "8  130000.0   25        169  ...       77.0      81.0   83.0   \n",
       "3  250000.0   27        185  ...       85.0      38.0   82.0   \n",
       "7  140000.0   22        188  ...       78.0      42.0   81.0   \n",
       "\n",
       "  goalkeeping_diving  goalkeeping_handling goalkeeping_kicking  \\\n",
       "0                  7                    11                  15   \n",
       "1                  6                    11                  15   \n",
       "2                  9                     9                  15   \n",
       "6                 87                    88                  68   \n",
       "5                 13                     9                   7   \n",
       "4                 11                     8                   9   \n",
       "9                 13                     5                   7   \n",
       "8                 15                    12                  10   \n",
       "3                 15                     6                  12   \n",
       "7                  8                    10                  11   \n",
       "\n",
       "  goalkeeping_positioning  goalkeeping_reflexes  goalkeeping_speed  points  \n",
       "0                      14                    11                NaN     946  \n",
       "1                      14                     8                NaN     670  \n",
       "2                      15                    11                NaN     361  \n",
       "6                      90                    84               46.0     221  \n",
       "5                      14                     9                NaN      84  \n",
       "4                       7                    11                NaN      71  \n",
       "9                      11                     6                NaN      48  \n",
       "8                       7                    10                NaN      47  \n",
       "3                       8                    10                NaN      45  \n",
       "7                      14                    11                NaN      36  \n",
       "\n",
       "[10 rows x 31 columns]"
      ]
     },
     "execution_count": 60,
     "metadata": {},
     "output_type": "execute_result"
    }
   ],
   "source": [
    "fifa17"
   ]
  },
  {
   "cell_type": "code",
   "execution_count": 61,
   "metadata": {},
   "outputs": [
    {
     "data": {
      "text/plain": [
       "LW    3\n",
       "CM    2\n",
       "ST    2\n",
       "RW    1\n",
       "GK    1\n",
       "CB    1\n",
       "Name: player_positions, dtype: int64"
      ]
     },
     "execution_count": 61,
     "metadata": {},
     "output_type": "execute_result"
    }
   ],
   "source": [
    "fifa17['player_positions'].value_counts()"
   ]
  },
  {
   "cell_type": "code",
   "execution_count": 66,
   "metadata": {},
   "outputs": [
    {
     "data": {
      "text/html": [
       "<div>\n",
       "<style scoped>\n",
       "    .dataframe tbody tr th:only-of-type {\n",
       "        vertical-align: middle;\n",
       "    }\n",
       "\n",
       "    .dataframe tbody tr th {\n",
       "        vertical-align: top;\n",
       "    }\n",
       "\n",
       "    .dataframe thead th {\n",
       "        text-align: right;\n",
       "    }\n",
       "</style>\n",
       "<table border=\"1\" class=\"dataframe\">\n",
       "  <thead>\n",
       "    <tr style=\"text-align: right;\">\n",
       "      <th></th>\n",
       "      <th>player_id</th>\n",
       "      <th>fifa_version</th>\n",
       "      <th>short_name</th>\n",
       "      <th>long_name</th>\n",
       "      <th>player_positions</th>\n",
       "      <th>overall</th>\n",
       "      <th>value_eur</th>\n",
       "      <th>wage_eur</th>\n",
       "      <th>age</th>\n",
       "      <th>height_cm</th>\n",
       "      <th>...</th>\n",
       "      <th>dribbling</th>\n",
       "      <th>defending</th>\n",
       "      <th>physic</th>\n",
       "      <th>goalkeeping_diving</th>\n",
       "      <th>goalkeeping_handling</th>\n",
       "      <th>goalkeeping_kicking</th>\n",
       "      <th>goalkeeping_positioning</th>\n",
       "      <th>goalkeeping_reflexes</th>\n",
       "      <th>goalkeeping_speed</th>\n",
       "      <th>points</th>\n",
       "    </tr>\n",
       "  </thead>\n",
       "  <tbody>\n",
       "    <tr>\n",
       "      <th>0</th>\n",
       "      <td>20801</td>\n",
       "      <td>17</td>\n",
       "      <td>Cristiano Ronaldo</td>\n",
       "      <td>Cristiano Ronaldo dos Santos Aveiro</td>\n",
       "      <td>LW</td>\n",
       "      <td>94</td>\n",
       "      <td>87000000.0</td>\n",
       "      <td>575000.0</td>\n",
       "      <td>31</td>\n",
       "      <td>185</td>\n",
       "      <td>...</td>\n",
       "      <td>91.0</td>\n",
       "      <td>33.0</td>\n",
       "      <td>80.0</td>\n",
       "      <td>7</td>\n",
       "      <td>11</td>\n",
       "      <td>15</td>\n",
       "      <td>14</td>\n",
       "      <td>11</td>\n",
       "      <td>NaN</td>\n",
       "      <td>946</td>\n",
       "    </tr>\n",
       "    <tr>\n",
       "      <th>1</th>\n",
       "      <td>158023</td>\n",
       "      <td>17</td>\n",
       "      <td>L. Messi</td>\n",
       "      <td>Lionel Andrés Messi Cuccittini</td>\n",
       "      <td>RW</td>\n",
       "      <td>93</td>\n",
       "      <td>89000000.0</td>\n",
       "      <td>575000.0</td>\n",
       "      <td>29</td>\n",
       "      <td>170</td>\n",
       "      <td>...</td>\n",
       "      <td>96.0</td>\n",
       "      <td>26.0</td>\n",
       "      <td>61.0</td>\n",
       "      <td>6</td>\n",
       "      <td>11</td>\n",
       "      <td>15</td>\n",
       "      <td>14</td>\n",
       "      <td>8</td>\n",
       "      <td>NaN</td>\n",
       "      <td>670</td>\n",
       "    </tr>\n",
       "    <tr>\n",
       "      <th>2</th>\n",
       "      <td>190871</td>\n",
       "      <td>17</td>\n",
       "      <td>Neymar</td>\n",
       "      <td>Neymar da Silva Santos Júnior</td>\n",
       "      <td>LW</td>\n",
       "      <td>92</td>\n",
       "      <td>109000000.0</td>\n",
       "      <td>450000.0</td>\n",
       "      <td>24</td>\n",
       "      <td>174</td>\n",
       "      <td>...</td>\n",
       "      <td>95.0</td>\n",
       "      <td>30.0</td>\n",
       "      <td>56.0</td>\n",
       "      <td>9</td>\n",
       "      <td>9</td>\n",
       "      <td>15</td>\n",
       "      <td>15</td>\n",
       "      <td>11</td>\n",
       "      <td>NaN</td>\n",
       "      <td>361</td>\n",
       "    </tr>\n",
       "    <tr>\n",
       "      <th>3</th>\n",
       "      <td>1179</td>\n",
       "      <td>17</td>\n",
       "      <td>G. Buffon</td>\n",
       "      <td>Gianluigi Buffon</td>\n",
       "      <td>GK</td>\n",
       "      <td>88</td>\n",
       "      <td>9000000.0</td>\n",
       "      <td>120000.0</td>\n",
       "      <td>38</td>\n",
       "      <td>192</td>\n",
       "      <td>...</td>\n",
       "      <td>NaN</td>\n",
       "      <td>NaN</td>\n",
       "      <td>NaN</td>\n",
       "      <td>87</td>\n",
       "      <td>88</td>\n",
       "      <td>68</td>\n",
       "      <td>90</td>\n",
       "      <td>84</td>\n",
       "      <td>46.0</td>\n",
       "      <td>221</td>\n",
       "    </tr>\n",
       "    <tr>\n",
       "      <th>4</th>\n",
       "      <td>177003</td>\n",
       "      <td>17</td>\n",
       "      <td>L. Modrić</td>\n",
       "      <td>Luka Modrić</td>\n",
       "      <td>CM</td>\n",
       "      <td>89</td>\n",
       "      <td>54000000.0</td>\n",
       "      <td>325000.0</td>\n",
       "      <td>30</td>\n",
       "      <td>174</td>\n",
       "      <td>...</td>\n",
       "      <td>89.0</td>\n",
       "      <td>72.0</td>\n",
       "      <td>66.0</td>\n",
       "      <td>13</td>\n",
       "      <td>9</td>\n",
       "      <td>7</td>\n",
       "      <td>14</td>\n",
       "      <td>9</td>\n",
       "      <td>NaN</td>\n",
       "      <td>84</td>\n",
       "    </tr>\n",
       "    <tr>\n",
       "      <th>5</th>\n",
       "      <td>155862</td>\n",
       "      <td>17</td>\n",
       "      <td>Sergio Ramos</td>\n",
       "      <td>Sergio Ramos García</td>\n",
       "      <td>CB</td>\n",
       "      <td>89</td>\n",
       "      <td>43500000.0</td>\n",
       "      <td>300000.0</td>\n",
       "      <td>30</td>\n",
       "      <td>183</td>\n",
       "      <td>...</td>\n",
       "      <td>71.0</td>\n",
       "      <td>87.0</td>\n",
       "      <td>83.0</td>\n",
       "      <td>11</td>\n",
       "      <td>8</td>\n",
       "      <td>9</td>\n",
       "      <td>7</td>\n",
       "      <td>11</td>\n",
       "      <td>NaN</td>\n",
       "      <td>71</td>\n",
       "    </tr>\n",
       "    <tr>\n",
       "      <th>6</th>\n",
       "      <td>231747</td>\n",
       "      <td>17</td>\n",
       "      <td>K. Mbappe Lottin</td>\n",
       "      <td>Kylian Mbappé Lottin</td>\n",
       "      <td>LW</td>\n",
       "      <td>71</td>\n",
       "      <td>3100000.0</td>\n",
       "      <td>20000.0</td>\n",
       "      <td>17</td>\n",
       "      <td>178</td>\n",
       "      <td>...</td>\n",
       "      <td>74.0</td>\n",
       "      <td>39.0</td>\n",
       "      <td>62.0</td>\n",
       "      <td>13</td>\n",
       "      <td>5</td>\n",
       "      <td>7</td>\n",
       "      <td>11</td>\n",
       "      <td>6</td>\n",
       "      <td>NaN</td>\n",
       "      <td>48</td>\n",
       "    </tr>\n",
       "    <tr>\n",
       "      <th>7</th>\n",
       "      <td>215914</td>\n",
       "      <td>17</td>\n",
       "      <td>N. Kanté</td>\n",
       "      <td>N'Golo Kanté</td>\n",
       "      <td>CM</td>\n",
       "      <td>81</td>\n",
       "      <td>21000000.0</td>\n",
       "      <td>130000.0</td>\n",
       "      <td>25</td>\n",
       "      <td>169</td>\n",
       "      <td>...</td>\n",
       "      <td>77.0</td>\n",
       "      <td>81.0</td>\n",
       "      <td>83.0</td>\n",
       "      <td>15</td>\n",
       "      <td>12</td>\n",
       "      <td>10</td>\n",
       "      <td>7</td>\n",
       "      <td>10</td>\n",
       "      <td>NaN</td>\n",
       "      <td>47</td>\n",
       "    </tr>\n",
       "    <tr>\n",
       "      <th>8</th>\n",
       "      <td>188545</td>\n",
       "      <td>17</td>\n",
       "      <td>R. Lewandowski</td>\n",
       "      <td>Robert Lewandowski</td>\n",
       "      <td>ST</td>\n",
       "      <td>90</td>\n",
       "      <td>71000000.0</td>\n",
       "      <td>250000.0</td>\n",
       "      <td>27</td>\n",
       "      <td>185</td>\n",
       "      <td>...</td>\n",
       "      <td>85.0</td>\n",
       "      <td>38.0</td>\n",
       "      <td>82.0</td>\n",
       "      <td>15</td>\n",
       "      <td>6</td>\n",
       "      <td>12</td>\n",
       "      <td>8</td>\n",
       "      <td>10</td>\n",
       "      <td>NaN</td>\n",
       "      <td>45</td>\n",
       "    </tr>\n",
       "    <tr>\n",
       "      <th>9</th>\n",
       "      <td>202126</td>\n",
       "      <td>17</td>\n",
       "      <td>H. Kane</td>\n",
       "      <td>Harry Kane</td>\n",
       "      <td>ST</td>\n",
       "      <td>84</td>\n",
       "      <td>41000000.0</td>\n",
       "      <td>140000.0</td>\n",
       "      <td>22</td>\n",
       "      <td>188</td>\n",
       "      <td>...</td>\n",
       "      <td>78.0</td>\n",
       "      <td>42.0</td>\n",
       "      <td>81.0</td>\n",
       "      <td>8</td>\n",
       "      <td>10</td>\n",
       "      <td>11</td>\n",
       "      <td>14</td>\n",
       "      <td>11</td>\n",
       "      <td>NaN</td>\n",
       "      <td>36</td>\n",
       "    </tr>\n",
       "    <tr>\n",
       "      <th>10</th>\n",
       "      <td>20801</td>\n",
       "      <td>18</td>\n",
       "      <td>Cristiano Ronaldo</td>\n",
       "      <td>Cristiano Ronaldo dos Santos Aveiro</td>\n",
       "      <td>LW</td>\n",
       "      <td>94</td>\n",
       "      <td>95500000.0</td>\n",
       "      <td>575000.0</td>\n",
       "      <td>32</td>\n",
       "      <td>185</td>\n",
       "      <td>...</td>\n",
       "      <td>90.0</td>\n",
       "      <td>33.0</td>\n",
       "      <td>80.0</td>\n",
       "      <td>7</td>\n",
       "      <td>11</td>\n",
       "      <td>15</td>\n",
       "      <td>14</td>\n",
       "      <td>11</td>\n",
       "      <td>NaN</td>\n",
       "      <td>478</td>\n",
       "    </tr>\n",
       "    <tr>\n",
       "      <th>11</th>\n",
       "      <td>158023</td>\n",
       "      <td>18</td>\n",
       "      <td>L. Messi</td>\n",
       "      <td>Lionel Andrés Messi Cuccittini</td>\n",
       "      <td>RW</td>\n",
       "      <td>93</td>\n",
       "      <td>105000000.0</td>\n",
       "      <td>575000.0</td>\n",
       "      <td>30</td>\n",
       "      <td>170</td>\n",
       "      <td>...</td>\n",
       "      <td>96.0</td>\n",
       "      <td>26.0</td>\n",
       "      <td>61.0</td>\n",
       "      <td>6</td>\n",
       "      <td>11</td>\n",
       "      <td>15</td>\n",
       "      <td>14</td>\n",
       "      <td>8</td>\n",
       "      <td>NaN</td>\n",
       "      <td>280</td>\n",
       "    </tr>\n",
       "    <tr>\n",
       "      <th>12</th>\n",
       "      <td>183277</td>\n",
       "      <td>18</td>\n",
       "      <td>E. Hazard</td>\n",
       "      <td>Eden Hazard</td>\n",
       "      <td>LW</td>\n",
       "      <td>90</td>\n",
       "      <td>90500000.0</td>\n",
       "      <td>300000.0</td>\n",
       "      <td>26</td>\n",
       "      <td>173</td>\n",
       "      <td>...</td>\n",
       "      <td>92.0</td>\n",
       "      <td>32.0</td>\n",
       "      <td>66.0</td>\n",
       "      <td>11</td>\n",
       "      <td>12</td>\n",
       "      <td>6</td>\n",
       "      <td>8</td>\n",
       "      <td>8</td>\n",
       "      <td>NaN</td>\n",
       "      <td>119</td>\n",
       "    </tr>\n",
       "    <tr>\n",
       "      <th>13</th>\n",
       "      <td>177003</td>\n",
       "      <td>18</td>\n",
       "      <td>L. Modrić</td>\n",
       "      <td>Luka Modrić</td>\n",
       "      <td>CM</td>\n",
       "      <td>89</td>\n",
       "      <td>57000000.0</td>\n",
       "      <td>325000.0</td>\n",
       "      <td>31</td>\n",
       "      <td>174</td>\n",
       "      <td>...</td>\n",
       "      <td>89.0</td>\n",
       "      <td>72.0</td>\n",
       "      <td>65.0</td>\n",
       "      <td>13</td>\n",
       "      <td>9</td>\n",
       "      <td>7</td>\n",
       "      <td>14</td>\n",
       "      <td>9</td>\n",
       "      <td>NaN</td>\n",
       "      <td>753</td>\n",
       "    </tr>\n",
       "    <tr>\n",
       "      <th>14</th>\n",
       "      <td>192985</td>\n",
       "      <td>18</td>\n",
       "      <td>K. De Bruyne</td>\n",
       "      <td>Kevin De Bruyne</td>\n",
       "      <td>CAM</td>\n",
       "      <td>89</td>\n",
       "      <td>83000000.0</td>\n",
       "      <td>275000.0</td>\n",
       "      <td>26</td>\n",
       "      <td>181</td>\n",
       "      <td>...</td>\n",
       "      <td>85.0</td>\n",
       "      <td>45.0</td>\n",
       "      <td>75.0</td>\n",
       "      <td>15</td>\n",
       "      <td>13</td>\n",
       "      <td>5</td>\n",
       "      <td>10</td>\n",
       "      <td>13</td>\n",
       "      <td>NaN</td>\n",
       "      <td>29</td>\n",
       "    </tr>\n",
       "    <tr>\n",
       "      <th>15</th>\n",
       "      <td>194765</td>\n",
       "      <td>18</td>\n",
       "      <td>A. Griezmann</td>\n",
       "      <td>Antoine Griezmann</td>\n",
       "      <td>ST</td>\n",
       "      <td>88</td>\n",
       "      <td>75000000.0</td>\n",
       "      <td>150000.0</td>\n",
       "      <td>26</td>\n",
       "      <td>174</td>\n",
       "      <td>...</td>\n",
       "      <td>87.0</td>\n",
       "      <td>30.0</td>\n",
       "      <td>68.0</td>\n",
       "      <td>14</td>\n",
       "      <td>8</td>\n",
       "      <td>14</td>\n",
       "      <td>13</td>\n",
       "      <td>14</td>\n",
       "      <td>NaN</td>\n",
       "      <td>414</td>\n",
       "    </tr>\n",
       "    <tr>\n",
       "      <th>16</th>\n",
       "      <td>202126</td>\n",
       "      <td>18</td>\n",
       "      <td>H. Kane</td>\n",
       "      <td>Harry Kane</td>\n",
       "      <td>ST</td>\n",
       "      <td>86</td>\n",
       "      <td>59000000.0</td>\n",
       "      <td>160000.0</td>\n",
       "      <td>23</td>\n",
       "      <td>188</td>\n",
       "      <td>...</td>\n",
       "      <td>78.0</td>\n",
       "      <td>42.0</td>\n",
       "      <td>83.0</td>\n",
       "      <td>8</td>\n",
       "      <td>10</td>\n",
       "      <td>11</td>\n",
       "      <td>14</td>\n",
       "      <td>11</td>\n",
       "      <td>NaN</td>\n",
       "      <td>25</td>\n",
       "    </tr>\n",
       "    <tr>\n",
       "      <th>17</th>\n",
       "      <td>201535</td>\n",
       "      <td>18</td>\n",
       "      <td>R. Varane</td>\n",
       "      <td>Raphaël Varane</td>\n",
       "      <td>CB</td>\n",
       "      <td>85</td>\n",
       "      <td>46500000.0</td>\n",
       "      <td>170000.0</td>\n",
       "      <td>24</td>\n",
       "      <td>191</td>\n",
       "      <td>...</td>\n",
       "      <td>64.0</td>\n",
       "      <td>84.0</td>\n",
       "      <td>79.0</td>\n",
       "      <td>11</td>\n",
       "      <td>11</td>\n",
       "      <td>9</td>\n",
       "      <td>5</td>\n",
       "      <td>14</td>\n",
       "      <td>NaN</td>\n",
       "      <td>121</td>\n",
       "    </tr>\n",
       "    <tr>\n",
       "      <th>18</th>\n",
       "      <td>209331</td>\n",
       "      <td>18</td>\n",
       "      <td>M. Salah</td>\n",
       "      <td>Mohamed Salah Ghaly</td>\n",
       "      <td>RW</td>\n",
       "      <td>83</td>\n",
       "      <td>32500000.0</td>\n",
       "      <td>130000.0</td>\n",
       "      <td>25</td>\n",
       "      <td>175</td>\n",
       "      <td>...</td>\n",
       "      <td>87.0</td>\n",
       "      <td>45.0</td>\n",
       "      <td>66.0</td>\n",
       "      <td>14</td>\n",
       "      <td>14</td>\n",
       "      <td>9</td>\n",
       "      <td>11</td>\n",
       "      <td>14</td>\n",
       "      <td>NaN</td>\n",
       "      <td>188</td>\n",
       "    </tr>\n",
       "    <tr>\n",
       "      <th>19</th>\n",
       "      <td>231747</td>\n",
       "      <td>18</td>\n",
       "      <td>K. Mbappé</td>\n",
       "      <td>Kylian Mbappé Lottin</td>\n",
       "      <td>ST</td>\n",
       "      <td>83</td>\n",
       "      <td>41500000.0</td>\n",
       "      <td>60000.0</td>\n",
       "      <td>18</td>\n",
       "      <td>178</td>\n",
       "      <td>...</td>\n",
       "      <td>85.0</td>\n",
       "      <td>47.0</td>\n",
       "      <td>74.0</td>\n",
       "      <td>13</td>\n",
       "      <td>5</td>\n",
       "      <td>7</td>\n",
       "      <td>11</td>\n",
       "      <td>6</td>\n",
       "      <td>NaN</td>\n",
       "      <td>347</td>\n",
       "    </tr>\n",
       "    <tr>\n",
       "      <th>20</th>\n",
       "      <td>20801</td>\n",
       "      <td>18</td>\n",
       "      <td>Cristiano Ronaldo</td>\n",
       "      <td>Cristiano Ronaldo dos Santos Aveiro</td>\n",
       "      <td>LW</td>\n",
       "      <td>94</td>\n",
       "      <td>95500000.0</td>\n",
       "      <td>575000.0</td>\n",
       "      <td>32</td>\n",
       "      <td>185</td>\n",
       "      <td>...</td>\n",
       "      <td>90.0</td>\n",
       "      <td>33.0</td>\n",
       "      <td>80.0</td>\n",
       "      <td>7</td>\n",
       "      <td>11</td>\n",
       "      <td>15</td>\n",
       "      <td>14</td>\n",
       "      <td>11</td>\n",
       "      <td>NaN</td>\n",
       "      <td>478</td>\n",
       "    </tr>\n",
       "    <tr>\n",
       "      <th>21</th>\n",
       "      <td>158023</td>\n",
       "      <td>18</td>\n",
       "      <td>L. Messi</td>\n",
       "      <td>Lionel Andrés Messi Cuccittini</td>\n",
       "      <td>RW</td>\n",
       "      <td>93</td>\n",
       "      <td>105000000.0</td>\n",
       "      <td>575000.0</td>\n",
       "      <td>30</td>\n",
       "      <td>170</td>\n",
       "      <td>...</td>\n",
       "      <td>96.0</td>\n",
       "      <td>26.0</td>\n",
       "      <td>61.0</td>\n",
       "      <td>6</td>\n",
       "      <td>11</td>\n",
       "      <td>15</td>\n",
       "      <td>14</td>\n",
       "      <td>8</td>\n",
       "      <td>NaN</td>\n",
       "      <td>280</td>\n",
       "    </tr>\n",
       "    <tr>\n",
       "      <th>22</th>\n",
       "      <td>183277</td>\n",
       "      <td>18</td>\n",
       "      <td>E. Hazard</td>\n",
       "      <td>Eden Hazard</td>\n",
       "      <td>LW</td>\n",
       "      <td>90</td>\n",
       "      <td>90500000.0</td>\n",
       "      <td>300000.0</td>\n",
       "      <td>26</td>\n",
       "      <td>173</td>\n",
       "      <td>...</td>\n",
       "      <td>92.0</td>\n",
       "      <td>32.0</td>\n",
       "      <td>66.0</td>\n",
       "      <td>11</td>\n",
       "      <td>12</td>\n",
       "      <td>6</td>\n",
       "      <td>8</td>\n",
       "      <td>8</td>\n",
       "      <td>NaN</td>\n",
       "      <td>119</td>\n",
       "    </tr>\n",
       "    <tr>\n",
       "      <th>23</th>\n",
       "      <td>177003</td>\n",
       "      <td>18</td>\n",
       "      <td>L. Modrić</td>\n",
       "      <td>Luka Modrić</td>\n",
       "      <td>CM</td>\n",
       "      <td>89</td>\n",
       "      <td>57000000.0</td>\n",
       "      <td>325000.0</td>\n",
       "      <td>31</td>\n",
       "      <td>174</td>\n",
       "      <td>...</td>\n",
       "      <td>89.0</td>\n",
       "      <td>72.0</td>\n",
       "      <td>65.0</td>\n",
       "      <td>13</td>\n",
       "      <td>9</td>\n",
       "      <td>7</td>\n",
       "      <td>14</td>\n",
       "      <td>9</td>\n",
       "      <td>NaN</td>\n",
       "      <td>753</td>\n",
       "    </tr>\n",
       "    <tr>\n",
       "      <th>24</th>\n",
       "      <td>192985</td>\n",
       "      <td>18</td>\n",
       "      <td>K. De Bruyne</td>\n",
       "      <td>Kevin De Bruyne</td>\n",
       "      <td>CAM</td>\n",
       "      <td>89</td>\n",
       "      <td>83000000.0</td>\n",
       "      <td>275000.0</td>\n",
       "      <td>26</td>\n",
       "      <td>181</td>\n",
       "      <td>...</td>\n",
       "      <td>85.0</td>\n",
       "      <td>45.0</td>\n",
       "      <td>75.0</td>\n",
       "      <td>15</td>\n",
       "      <td>13</td>\n",
       "      <td>5</td>\n",
       "      <td>10</td>\n",
       "      <td>13</td>\n",
       "      <td>NaN</td>\n",
       "      <td>29</td>\n",
       "    </tr>\n",
       "    <tr>\n",
       "      <th>25</th>\n",
       "      <td>194765</td>\n",
       "      <td>18</td>\n",
       "      <td>A. Griezmann</td>\n",
       "      <td>Antoine Griezmann</td>\n",
       "      <td>ST</td>\n",
       "      <td>88</td>\n",
       "      <td>75000000.0</td>\n",
       "      <td>150000.0</td>\n",
       "      <td>26</td>\n",
       "      <td>174</td>\n",
       "      <td>...</td>\n",
       "      <td>87.0</td>\n",
       "      <td>30.0</td>\n",
       "      <td>68.0</td>\n",
       "      <td>14</td>\n",
       "      <td>8</td>\n",
       "      <td>14</td>\n",
       "      <td>13</td>\n",
       "      <td>14</td>\n",
       "      <td>NaN</td>\n",
       "      <td>414</td>\n",
       "    </tr>\n",
       "    <tr>\n",
       "      <th>26</th>\n",
       "      <td>202126</td>\n",
       "      <td>18</td>\n",
       "      <td>H. Kane</td>\n",
       "      <td>Harry Kane</td>\n",
       "      <td>ST</td>\n",
       "      <td>86</td>\n",
       "      <td>59000000.0</td>\n",
       "      <td>160000.0</td>\n",
       "      <td>23</td>\n",
       "      <td>188</td>\n",
       "      <td>...</td>\n",
       "      <td>78.0</td>\n",
       "      <td>42.0</td>\n",
       "      <td>83.0</td>\n",
       "      <td>8</td>\n",
       "      <td>10</td>\n",
       "      <td>11</td>\n",
       "      <td>14</td>\n",
       "      <td>11</td>\n",
       "      <td>NaN</td>\n",
       "      <td>25</td>\n",
       "    </tr>\n",
       "    <tr>\n",
       "      <th>27</th>\n",
       "      <td>201535</td>\n",
       "      <td>18</td>\n",
       "      <td>R. Varane</td>\n",
       "      <td>Raphaël Varane</td>\n",
       "      <td>CB</td>\n",
       "      <td>85</td>\n",
       "      <td>46500000.0</td>\n",
       "      <td>170000.0</td>\n",
       "      <td>24</td>\n",
       "      <td>191</td>\n",
       "      <td>...</td>\n",
       "      <td>64.0</td>\n",
       "      <td>84.0</td>\n",
       "      <td>79.0</td>\n",
       "      <td>11</td>\n",
       "      <td>11</td>\n",
       "      <td>9</td>\n",
       "      <td>5</td>\n",
       "      <td>14</td>\n",
       "      <td>NaN</td>\n",
       "      <td>121</td>\n",
       "    </tr>\n",
       "    <tr>\n",
       "      <th>28</th>\n",
       "      <td>209331</td>\n",
       "      <td>18</td>\n",
       "      <td>M. Salah</td>\n",
       "      <td>Mohamed Salah Ghaly</td>\n",
       "      <td>RW</td>\n",
       "      <td>83</td>\n",
       "      <td>32500000.0</td>\n",
       "      <td>130000.0</td>\n",
       "      <td>25</td>\n",
       "      <td>175</td>\n",
       "      <td>...</td>\n",
       "      <td>87.0</td>\n",
       "      <td>45.0</td>\n",
       "      <td>66.0</td>\n",
       "      <td>14</td>\n",
       "      <td>14</td>\n",
       "      <td>9</td>\n",
       "      <td>11</td>\n",
       "      <td>14</td>\n",
       "      <td>NaN</td>\n",
       "      <td>188</td>\n",
       "    </tr>\n",
       "    <tr>\n",
       "      <th>29</th>\n",
       "      <td>231747</td>\n",
       "      <td>18</td>\n",
       "      <td>K. Mbappé</td>\n",
       "      <td>Kylian Mbappé Lottin</td>\n",
       "      <td>ST</td>\n",
       "      <td>83</td>\n",
       "      <td>41500000.0</td>\n",
       "      <td>60000.0</td>\n",
       "      <td>18</td>\n",
       "      <td>178</td>\n",
       "      <td>...</td>\n",
       "      <td>85.0</td>\n",
       "      <td>47.0</td>\n",
       "      <td>74.0</td>\n",
       "      <td>13</td>\n",
       "      <td>5</td>\n",
       "      <td>7</td>\n",
       "      <td>11</td>\n",
       "      <td>6</td>\n",
       "      <td>NaN</td>\n",
       "      <td>347</td>\n",
       "    </tr>\n",
       "    <tr>\n",
       "      <th>30</th>\n",
       "      <td>158023</td>\n",
       "      <td>21</td>\n",
       "      <td>L. Messi</td>\n",
       "      <td>Lionel Andrés Messi Cuccittini</td>\n",
       "      <td>RW</td>\n",
       "      <td>93</td>\n",
       "      <td>103500000.0</td>\n",
       "      <td>560000.0</td>\n",
       "      <td>33</td>\n",
       "      <td>170</td>\n",
       "      <td>...</td>\n",
       "      <td>95.0</td>\n",
       "      <td>38.0</td>\n",
       "      <td>65.0</td>\n",
       "      <td>6</td>\n",
       "      <td>11</td>\n",
       "      <td>15</td>\n",
       "      <td>14</td>\n",
       "      <td>8</td>\n",
       "      <td>NaN</td>\n",
       "      <td>613</td>\n",
       "    </tr>\n",
       "    <tr>\n",
       "      <th>31</th>\n",
       "      <td>20801</td>\n",
       "      <td>21</td>\n",
       "      <td>Cristiano Ronaldo</td>\n",
       "      <td>Cristiano Ronaldo dos Santos Aveiro</td>\n",
       "      <td>ST</td>\n",
       "      <td>92</td>\n",
       "      <td>63000000.0</td>\n",
       "      <td>220000.0</td>\n",
       "      <td>35</td>\n",
       "      <td>187</td>\n",
       "      <td>...</td>\n",
       "      <td>89.0</td>\n",
       "      <td>35.0</td>\n",
       "      <td>77.0</td>\n",
       "      <td>7</td>\n",
       "      <td>11</td>\n",
       "      <td>15</td>\n",
       "      <td>14</td>\n",
       "      <td>11</td>\n",
       "      <td>NaN</td>\n",
       "      <td>178</td>\n",
       "    </tr>\n",
       "    <tr>\n",
       "      <th>32</th>\n",
       "      <td>188545</td>\n",
       "      <td>21</td>\n",
       "      <td>R. Lewandowski</td>\n",
       "      <td>Robert Lewandowski</td>\n",
       "      <td>ST</td>\n",
       "      <td>91</td>\n",
       "      <td>111000000.0</td>\n",
       "      <td>240000.0</td>\n",
       "      <td>31</td>\n",
       "      <td>184</td>\n",
       "      <td>...</td>\n",
       "      <td>85.0</td>\n",
       "      <td>43.0</td>\n",
       "      <td>82.0</td>\n",
       "      <td>15</td>\n",
       "      <td>6</td>\n",
       "      <td>12</td>\n",
       "      <td>8</td>\n",
       "      <td>10</td>\n",
       "      <td>NaN</td>\n",
       "      <td>580</td>\n",
       "    </tr>\n",
       "    <tr>\n",
       "      <th>33</th>\n",
       "      <td>192985</td>\n",
       "      <td>21</td>\n",
       "      <td>K. De Bruyne</td>\n",
       "      <td>Kevin De Bruyne</td>\n",
       "      <td>CAM</td>\n",
       "      <td>91</td>\n",
       "      <td>129000000.0</td>\n",
       "      <td>370000.0</td>\n",
       "      <td>29</td>\n",
       "      <td>181</td>\n",
       "      <td>...</td>\n",
       "      <td>88.0</td>\n",
       "      <td>64.0</td>\n",
       "      <td>78.0</td>\n",
       "      <td>15</td>\n",
       "      <td>13</td>\n",
       "      <td>5</td>\n",
       "      <td>10</td>\n",
       "      <td>13</td>\n",
       "      <td>NaN</td>\n",
       "      <td>73</td>\n",
       "    </tr>\n",
       "    <tr>\n",
       "      <th>34</th>\n",
       "      <td>209331</td>\n",
       "      <td>21</td>\n",
       "      <td>M. Salah</td>\n",
       "      <td>Mohamed Salah Ghaly</td>\n",
       "      <td>RW</td>\n",
       "      <td>90</td>\n",
       "      <td>120500000.0</td>\n",
       "      <td>250000.0</td>\n",
       "      <td>28</td>\n",
       "      <td>175</td>\n",
       "      <td>...</td>\n",
       "      <td>90.0</td>\n",
       "      <td>45.0</td>\n",
       "      <td>75.0</td>\n",
       "      <td>14</td>\n",
       "      <td>14</td>\n",
       "      <td>9</td>\n",
       "      <td>11</td>\n",
       "      <td>14</td>\n",
       "      <td>NaN</td>\n",
       "      <td>121</td>\n",
       "    </tr>\n",
       "    <tr>\n",
       "      <th>35</th>\n",
       "      <td>231747</td>\n",
       "      <td>21</td>\n",
       "      <td>K. Mbappé</td>\n",
       "      <td>Kylian Mbappé Lottin</td>\n",
       "      <td>ST</td>\n",
       "      <td>90</td>\n",
       "      <td>185500000.0</td>\n",
       "      <td>160000.0</td>\n",
       "      <td>21</td>\n",
       "      <td>178</td>\n",
       "      <td>...</td>\n",
       "      <td>91.0</td>\n",
       "      <td>39.0</td>\n",
       "      <td>76.0</td>\n",
       "      <td>13</td>\n",
       "      <td>5</td>\n",
       "      <td>7</td>\n",
       "      <td>11</td>\n",
       "      <td>6</td>\n",
       "      <td>NaN</td>\n",
       "      <td>58</td>\n",
       "    </tr>\n",
       "    <tr>\n",
       "      <th>36</th>\n",
       "      <td>165153</td>\n",
       "      <td>21</td>\n",
       "      <td>K. Benzema</td>\n",
       "      <td>Karim Benzema</td>\n",
       "      <td>CF</td>\n",
       "      <td>89</td>\n",
       "      <td>83500000.0</td>\n",
       "      <td>350000.0</td>\n",
       "      <td>32</td>\n",
       "      <td>185</td>\n",
       "      <td>...</td>\n",
       "      <td>86.0</td>\n",
       "      <td>40.0</td>\n",
       "      <td>76.0</td>\n",
       "      <td>13</td>\n",
       "      <td>11</td>\n",
       "      <td>5</td>\n",
       "      <td>5</td>\n",
       "      <td>7</td>\n",
       "      <td>NaN</td>\n",
       "      <td>239</td>\n",
       "    </tr>\n",
       "    <tr>\n",
       "      <th>37</th>\n",
       "      <td>215914</td>\n",
       "      <td>21</td>\n",
       "      <td>N. Kanté</td>\n",
       "      <td>N'Golo Kanté</td>\n",
       "      <td>CDM</td>\n",
       "      <td>88</td>\n",
       "      <td>78000000.0</td>\n",
       "      <td>190000.0</td>\n",
       "      <td>29</td>\n",
       "      <td>168</td>\n",
       "      <td>...</td>\n",
       "      <td>81.0</td>\n",
       "      <td>86.0</td>\n",
       "      <td>82.0</td>\n",
       "      <td>15</td>\n",
       "      <td>12</td>\n",
       "      <td>10</td>\n",
       "      <td>7</td>\n",
       "      <td>10</td>\n",
       "      <td>NaN</td>\n",
       "      <td>186</td>\n",
       "    </tr>\n",
       "    <tr>\n",
       "      <th>38</th>\n",
       "      <td>230621</td>\n",
       "      <td>21</td>\n",
       "      <td>G. Donnarumma</td>\n",
       "      <td>Gianluigi Donnarumma</td>\n",
       "      <td>GK</td>\n",
       "      <td>85</td>\n",
       "      <td>93500000.0</td>\n",
       "      <td>34000.0</td>\n",
       "      <td>21</td>\n",
       "      <td>196</td>\n",
       "      <td>...</td>\n",
       "      <td>NaN</td>\n",
       "      <td>NaN</td>\n",
       "      <td>NaN</td>\n",
       "      <td>89</td>\n",
       "      <td>81</td>\n",
       "      <td>76</td>\n",
       "      <td>83</td>\n",
       "      <td>89</td>\n",
       "      <td>50.0</td>\n",
       "      <td>36</td>\n",
       "    </tr>\n",
       "    <tr>\n",
       "      <th>39</th>\n",
       "      <td>205498</td>\n",
       "      <td>21</td>\n",
       "      <td>Jorginho</td>\n",
       "      <td>Luiz Frello Filho Jorge</td>\n",
       "      <td>CM</td>\n",
       "      <td>83</td>\n",
       "      <td>36500000.0</td>\n",
       "      <td>125000.0</td>\n",
       "      <td>28</td>\n",
       "      <td>180</td>\n",
       "      <td>...</td>\n",
       "      <td>80.0</td>\n",
       "      <td>72.0</td>\n",
       "      <td>73.0</td>\n",
       "      <td>14</td>\n",
       "      <td>7</td>\n",
       "      <td>13</td>\n",
       "      <td>14</td>\n",
       "      <td>8</td>\n",
       "      <td>NaN</td>\n",
       "      <td>460</td>\n",
       "    </tr>\n",
       "    <tr>\n",
       "      <th>40</th>\n",
       "      <td>188545</td>\n",
       "      <td>22</td>\n",
       "      <td>R. Lewandowski</td>\n",
       "      <td>Robert Lewandowski</td>\n",
       "      <td>ST</td>\n",
       "      <td>92</td>\n",
       "      <td>119500000.0</td>\n",
       "      <td>270000.0</td>\n",
       "      <td>32</td>\n",
       "      <td>185</td>\n",
       "      <td>...</td>\n",
       "      <td>86.0</td>\n",
       "      <td>44.0</td>\n",
       "      <td>82.0</td>\n",
       "      <td>15</td>\n",
       "      <td>6</td>\n",
       "      <td>12</td>\n",
       "      <td>8</td>\n",
       "      <td>10</td>\n",
       "      <td>NaN</td>\n",
       "      <td>170</td>\n",
       "    </tr>\n",
       "    <tr>\n",
       "      <th>41</th>\n",
       "      <td>192985</td>\n",
       "      <td>22</td>\n",
       "      <td>K. De Bruyne</td>\n",
       "      <td>Kevin De Bruyne</td>\n",
       "      <td>CM</td>\n",
       "      <td>91</td>\n",
       "      <td>125500000.0</td>\n",
       "      <td>350000.0</td>\n",
       "      <td>30</td>\n",
       "      <td>181</td>\n",
       "      <td>...</td>\n",
       "      <td>88.0</td>\n",
       "      <td>64.0</td>\n",
       "      <td>78.0</td>\n",
       "      <td>15</td>\n",
       "      <td>13</td>\n",
       "      <td>5</td>\n",
       "      <td>10</td>\n",
       "      <td>13</td>\n",
       "      <td>NaN</td>\n",
       "      <td>175</td>\n",
       "    </tr>\n",
       "    <tr>\n",
       "      <th>42</th>\n",
       "      <td>231747</td>\n",
       "      <td>22</td>\n",
       "      <td>K. Mbappé</td>\n",
       "      <td>Kylian Mbappé Lottin</td>\n",
       "      <td>ST</td>\n",
       "      <td>91</td>\n",
       "      <td>194000000.0</td>\n",
       "      <td>230000.0</td>\n",
       "      <td>22</td>\n",
       "      <td>182</td>\n",
       "      <td>...</td>\n",
       "      <td>92.0</td>\n",
       "      <td>36.0</td>\n",
       "      <td>77.0</td>\n",
       "      <td>13</td>\n",
       "      <td>5</td>\n",
       "      <td>7</td>\n",
       "      <td>11</td>\n",
       "      <td>6</td>\n",
       "      <td>NaN</td>\n",
       "      <td>85</td>\n",
       "    </tr>\n",
       "    <tr>\n",
       "      <th>43</th>\n",
       "      <td>165153</td>\n",
       "      <td>22</td>\n",
       "      <td>K. Benzema</td>\n",
       "      <td>Karim Benzema</td>\n",
       "      <td>CF</td>\n",
       "      <td>89</td>\n",
       "      <td>66000000.0</td>\n",
       "      <td>350000.0</td>\n",
       "      <td>33</td>\n",
       "      <td>185</td>\n",
       "      <td>...</td>\n",
       "      <td>87.0</td>\n",
       "      <td>39.0</td>\n",
       "      <td>77.0</td>\n",
       "      <td>13</td>\n",
       "      <td>11</td>\n",
       "      <td>5</td>\n",
       "      <td>5</td>\n",
       "      <td>7</td>\n",
       "      <td>NaN</td>\n",
       "      <td>549</td>\n",
       "    </tr>\n",
       "    <tr>\n",
       "      <th>44</th>\n",
       "      <td>192119</td>\n",
       "      <td>22</td>\n",
       "      <td>T. Courtois</td>\n",
       "      <td>Thibaut Nicolas Marc Courtois</td>\n",
       "      <td>GK</td>\n",
       "      <td>89</td>\n",
       "      <td>85500000.0</td>\n",
       "      <td>250000.0</td>\n",
       "      <td>29</td>\n",
       "      <td>199</td>\n",
       "      <td>...</td>\n",
       "      <td>NaN</td>\n",
       "      <td>NaN</td>\n",
       "      <td>NaN</td>\n",
       "      <td>84</td>\n",
       "      <td>89</td>\n",
       "      <td>74</td>\n",
       "      <td>86</td>\n",
       "      <td>88</td>\n",
       "      <td>46.0</td>\n",
       "      <td>82</td>\n",
       "    </tr>\n",
       "    <tr>\n",
       "      <th>45</th>\n",
       "      <td>208722</td>\n",
       "      <td>22</td>\n",
       "      <td>S. Mané</td>\n",
       "      <td>Sadio Mané</td>\n",
       "      <td>LW</td>\n",
       "      <td>89</td>\n",
       "      <td>101000000.0</td>\n",
       "      <td>270000.0</td>\n",
       "      <td>29</td>\n",
       "      <td>175</td>\n",
       "      <td>...</td>\n",
       "      <td>89.0</td>\n",
       "      <td>44.0</td>\n",
       "      <td>77.0</td>\n",
       "      <td>10</td>\n",
       "      <td>10</td>\n",
       "      <td>15</td>\n",
       "      <td>7</td>\n",
       "      <td>14</td>\n",
       "      <td>NaN</td>\n",
       "      <td>193</td>\n",
       "    </tr>\n",
       "    <tr>\n",
       "      <th>46</th>\n",
       "      <td>209331</td>\n",
       "      <td>22</td>\n",
       "      <td>M. Salah</td>\n",
       "      <td>Mohamed Salah Ghaly</td>\n",
       "      <td>RW</td>\n",
       "      <td>89</td>\n",
       "      <td>101000000.0</td>\n",
       "      <td>270000.0</td>\n",
       "      <td>29</td>\n",
       "      <td>175</td>\n",
       "      <td>...</td>\n",
       "      <td>90.0</td>\n",
       "      <td>45.0</td>\n",
       "      <td>75.0</td>\n",
       "      <td>14</td>\n",
       "      <td>14</td>\n",
       "      <td>9</td>\n",
       "      <td>11</td>\n",
       "      <td>14</td>\n",
       "      <td>NaN</td>\n",
       "      <td>116</td>\n",
       "    </tr>\n",
       "    <tr>\n",
       "      <th>47</th>\n",
       "      <td>239085</td>\n",
       "      <td>22</td>\n",
       "      <td>E. Haaland</td>\n",
       "      <td>Erling Braut Haaland</td>\n",
       "      <td>ST</td>\n",
       "      <td>88</td>\n",
       "      <td>137500000.0</td>\n",
       "      <td>110000.0</td>\n",
       "      <td>20</td>\n",
       "      <td>194</td>\n",
       "      <td>...</td>\n",
       "      <td>80.0</td>\n",
       "      <td>45.0</td>\n",
       "      <td>88.0</td>\n",
       "      <td>7</td>\n",
       "      <td>14</td>\n",
       "      <td>13</td>\n",
       "      <td>11</td>\n",
       "      <td>7</td>\n",
       "      <td>NaN</td>\n",
       "      <td>18</td>\n",
       "    </tr>\n",
       "    <tr>\n",
       "      <th>48</th>\n",
       "      <td>177003</td>\n",
       "      <td>22</td>\n",
       "      <td>L. Modrić</td>\n",
       "      <td>Luka Modrić</td>\n",
       "      <td>CM</td>\n",
       "      <td>87</td>\n",
       "      <td>32000000.0</td>\n",
       "      <td>190000.0</td>\n",
       "      <td>35</td>\n",
       "      <td>172</td>\n",
       "      <td>...</td>\n",
       "      <td>88.0</td>\n",
       "      <td>72.0</td>\n",
       "      <td>66.0</td>\n",
       "      <td>13</td>\n",
       "      <td>9</td>\n",
       "      <td>7</td>\n",
       "      <td>14</td>\n",
       "      <td>9</td>\n",
       "      <td>NaN</td>\n",
       "      <td>20</td>\n",
       "    </tr>\n",
       "    <tr>\n",
       "      <th>49</th>\n",
       "      <td>238794</td>\n",
       "      <td>22</td>\n",
       "      <td>Vinícius Jr.</td>\n",
       "      <td>Vinícius José Paixão de Oliveira Júnior</td>\n",
       "      <td>LW</td>\n",
       "      <td>80</td>\n",
       "      <td>46500000.0</td>\n",
       "      <td>120000.0</td>\n",
       "      <td>20</td>\n",
       "      <td>176</td>\n",
       "      <td>...</td>\n",
       "      <td>87.0</td>\n",
       "      <td>29.0</td>\n",
       "      <td>66.0</td>\n",
       "      <td>5</td>\n",
       "      <td>7</td>\n",
       "      <td>7</td>\n",
       "      <td>7</td>\n",
       "      <td>10</td>\n",
       "      <td>NaN</td>\n",
       "      <td>61</td>\n",
       "    </tr>\n",
       "  </tbody>\n",
       "</table>\n",
       "<p>50 rows × 31 columns</p>\n",
       "</div>"
      ],
      "text/plain": [
       "    player_id  fifa_version         short_name  \\\n",
       "0       20801            17  Cristiano Ronaldo   \n",
       "1      158023            17           L. Messi   \n",
       "2      190871            17             Neymar   \n",
       "3        1179            17          G. Buffon   \n",
       "4      177003            17          L. Modrić   \n",
       "5      155862            17       Sergio Ramos   \n",
       "6      231747            17   K. Mbappe Lottin   \n",
       "7      215914            17           N. Kanté   \n",
       "8      188545            17     R. Lewandowski   \n",
       "9      202126            17            H. Kane   \n",
       "10      20801            18  Cristiano Ronaldo   \n",
       "11     158023            18           L. Messi   \n",
       "12     183277            18          E. Hazard   \n",
       "13     177003            18          L. Modrić   \n",
       "14     192985            18       K. De Bruyne   \n",
       "15     194765            18       A. Griezmann   \n",
       "16     202126            18            H. Kane   \n",
       "17     201535            18          R. Varane   \n",
       "18     209331            18           M. Salah   \n",
       "19     231747            18          K. Mbappé   \n",
       "20      20801            18  Cristiano Ronaldo   \n",
       "21     158023            18           L. Messi   \n",
       "22     183277            18          E. Hazard   \n",
       "23     177003            18          L. Modrić   \n",
       "24     192985            18       K. De Bruyne   \n",
       "25     194765            18       A. Griezmann   \n",
       "26     202126            18            H. Kane   \n",
       "27     201535            18          R. Varane   \n",
       "28     209331            18           M. Salah   \n",
       "29     231747            18          K. Mbappé   \n",
       "30     158023            21           L. Messi   \n",
       "31      20801            21  Cristiano Ronaldo   \n",
       "32     188545            21     R. Lewandowski   \n",
       "33     192985            21       K. De Bruyne   \n",
       "34     209331            21           M. Salah   \n",
       "35     231747            21          K. Mbappé   \n",
       "36     165153            21         K. Benzema   \n",
       "37     215914            21           N. Kanté   \n",
       "38     230621            21      G. Donnarumma   \n",
       "39     205498            21           Jorginho   \n",
       "40     188545            22     R. Lewandowski   \n",
       "41     192985            22       K. De Bruyne   \n",
       "42     231747            22          K. Mbappé   \n",
       "43     165153            22         K. Benzema   \n",
       "44     192119            22        T. Courtois   \n",
       "45     208722            22            S. Mané   \n",
       "46     209331            22           M. Salah   \n",
       "47     239085            22         E. Haaland   \n",
       "48     177003            22          L. Modrić   \n",
       "49     238794            22       Vinícius Jr.   \n",
       "\n",
       "                                  long_name player_positions  overall  \\\n",
       "0       Cristiano Ronaldo dos Santos Aveiro               LW       94   \n",
       "1            Lionel Andrés Messi Cuccittini               RW       93   \n",
       "2             Neymar da Silva Santos Júnior               LW       92   \n",
       "3                          Gianluigi Buffon               GK       88   \n",
       "4                               Luka Modrić               CM       89   \n",
       "5                       Sergio Ramos García               CB       89   \n",
       "6                      Kylian Mbappé Lottin               LW       71   \n",
       "7                              N'Golo Kanté               CM       81   \n",
       "8                        Robert Lewandowski               ST       90   \n",
       "9                                Harry Kane               ST       84   \n",
       "10      Cristiano Ronaldo dos Santos Aveiro               LW       94   \n",
       "11           Lionel Andrés Messi Cuccittini               RW       93   \n",
       "12                              Eden Hazard               LW       90   \n",
       "13                              Luka Modrić               CM       89   \n",
       "14                          Kevin De Bruyne              CAM       89   \n",
       "15                        Antoine Griezmann               ST       88   \n",
       "16                               Harry Kane               ST       86   \n",
       "17                           Raphaël Varane               CB       85   \n",
       "18                      Mohamed Salah Ghaly               RW       83   \n",
       "19                     Kylian Mbappé Lottin               ST       83   \n",
       "20      Cristiano Ronaldo dos Santos Aveiro               LW       94   \n",
       "21           Lionel Andrés Messi Cuccittini               RW       93   \n",
       "22                              Eden Hazard               LW       90   \n",
       "23                              Luka Modrić               CM       89   \n",
       "24                          Kevin De Bruyne              CAM       89   \n",
       "25                        Antoine Griezmann               ST       88   \n",
       "26                               Harry Kane               ST       86   \n",
       "27                           Raphaël Varane               CB       85   \n",
       "28                      Mohamed Salah Ghaly               RW       83   \n",
       "29                     Kylian Mbappé Lottin               ST       83   \n",
       "30           Lionel Andrés Messi Cuccittini               RW       93   \n",
       "31      Cristiano Ronaldo dos Santos Aveiro               ST       92   \n",
       "32                       Robert Lewandowski               ST       91   \n",
       "33                          Kevin De Bruyne              CAM       91   \n",
       "34                      Mohamed Salah Ghaly               RW       90   \n",
       "35                     Kylian Mbappé Lottin               ST       90   \n",
       "36                            Karim Benzema               CF       89   \n",
       "37                             N'Golo Kanté              CDM       88   \n",
       "38                     Gianluigi Donnarumma               GK       85   \n",
       "39                  Luiz Frello Filho Jorge               CM       83   \n",
       "40                       Robert Lewandowski               ST       92   \n",
       "41                          Kevin De Bruyne               CM       91   \n",
       "42                     Kylian Mbappé Lottin               ST       91   \n",
       "43                            Karim Benzema               CF       89   \n",
       "44            Thibaut Nicolas Marc Courtois               GK       89   \n",
       "45                               Sadio Mané               LW       89   \n",
       "46                      Mohamed Salah Ghaly               RW       89   \n",
       "47                     Erling Braut Haaland               ST       88   \n",
       "48                              Luka Modrić               CM       87   \n",
       "49  Vinícius José Paixão de Oliveira Júnior               LW       80   \n",
       "\n",
       "      value_eur  wage_eur  age  height_cm  ...  dribbling defending physic  \\\n",
       "0    87000000.0  575000.0   31        185  ...       91.0      33.0   80.0   \n",
       "1    89000000.0  575000.0   29        170  ...       96.0      26.0   61.0   \n",
       "2   109000000.0  450000.0   24        174  ...       95.0      30.0   56.0   \n",
       "3     9000000.0  120000.0   38        192  ...        NaN       NaN    NaN   \n",
       "4    54000000.0  325000.0   30        174  ...       89.0      72.0   66.0   \n",
       "5    43500000.0  300000.0   30        183  ...       71.0      87.0   83.0   \n",
       "6     3100000.0   20000.0   17        178  ...       74.0      39.0   62.0   \n",
       "7    21000000.0  130000.0   25        169  ...       77.0      81.0   83.0   \n",
       "8    71000000.0  250000.0   27        185  ...       85.0      38.0   82.0   \n",
       "9    41000000.0  140000.0   22        188  ...       78.0      42.0   81.0   \n",
       "10   95500000.0  575000.0   32        185  ...       90.0      33.0   80.0   \n",
       "11  105000000.0  575000.0   30        170  ...       96.0      26.0   61.0   \n",
       "12   90500000.0  300000.0   26        173  ...       92.0      32.0   66.0   \n",
       "13   57000000.0  325000.0   31        174  ...       89.0      72.0   65.0   \n",
       "14   83000000.0  275000.0   26        181  ...       85.0      45.0   75.0   \n",
       "15   75000000.0  150000.0   26        174  ...       87.0      30.0   68.0   \n",
       "16   59000000.0  160000.0   23        188  ...       78.0      42.0   83.0   \n",
       "17   46500000.0  170000.0   24        191  ...       64.0      84.0   79.0   \n",
       "18   32500000.0  130000.0   25        175  ...       87.0      45.0   66.0   \n",
       "19   41500000.0   60000.0   18        178  ...       85.0      47.0   74.0   \n",
       "20   95500000.0  575000.0   32        185  ...       90.0      33.0   80.0   \n",
       "21  105000000.0  575000.0   30        170  ...       96.0      26.0   61.0   \n",
       "22   90500000.0  300000.0   26        173  ...       92.0      32.0   66.0   \n",
       "23   57000000.0  325000.0   31        174  ...       89.0      72.0   65.0   \n",
       "24   83000000.0  275000.0   26        181  ...       85.0      45.0   75.0   \n",
       "25   75000000.0  150000.0   26        174  ...       87.0      30.0   68.0   \n",
       "26   59000000.0  160000.0   23        188  ...       78.0      42.0   83.0   \n",
       "27   46500000.0  170000.0   24        191  ...       64.0      84.0   79.0   \n",
       "28   32500000.0  130000.0   25        175  ...       87.0      45.0   66.0   \n",
       "29   41500000.0   60000.0   18        178  ...       85.0      47.0   74.0   \n",
       "30  103500000.0  560000.0   33        170  ...       95.0      38.0   65.0   \n",
       "31   63000000.0  220000.0   35        187  ...       89.0      35.0   77.0   \n",
       "32  111000000.0  240000.0   31        184  ...       85.0      43.0   82.0   \n",
       "33  129000000.0  370000.0   29        181  ...       88.0      64.0   78.0   \n",
       "34  120500000.0  250000.0   28        175  ...       90.0      45.0   75.0   \n",
       "35  185500000.0  160000.0   21        178  ...       91.0      39.0   76.0   \n",
       "36   83500000.0  350000.0   32        185  ...       86.0      40.0   76.0   \n",
       "37   78000000.0  190000.0   29        168  ...       81.0      86.0   82.0   \n",
       "38   93500000.0   34000.0   21        196  ...        NaN       NaN    NaN   \n",
       "39   36500000.0  125000.0   28        180  ...       80.0      72.0   73.0   \n",
       "40  119500000.0  270000.0   32        185  ...       86.0      44.0   82.0   \n",
       "41  125500000.0  350000.0   30        181  ...       88.0      64.0   78.0   \n",
       "42  194000000.0  230000.0   22        182  ...       92.0      36.0   77.0   \n",
       "43   66000000.0  350000.0   33        185  ...       87.0      39.0   77.0   \n",
       "44   85500000.0  250000.0   29        199  ...        NaN       NaN    NaN   \n",
       "45  101000000.0  270000.0   29        175  ...       89.0      44.0   77.0   \n",
       "46  101000000.0  270000.0   29        175  ...       90.0      45.0   75.0   \n",
       "47  137500000.0  110000.0   20        194  ...       80.0      45.0   88.0   \n",
       "48   32000000.0  190000.0   35        172  ...       88.0      72.0   66.0   \n",
       "49   46500000.0  120000.0   20        176  ...       87.0      29.0   66.0   \n",
       "\n",
       "   goalkeeping_diving  goalkeeping_handling goalkeeping_kicking  \\\n",
       "0                   7                    11                  15   \n",
       "1                   6                    11                  15   \n",
       "2                   9                     9                  15   \n",
       "3                  87                    88                  68   \n",
       "4                  13                     9                   7   \n",
       "5                  11                     8                   9   \n",
       "6                  13                     5                   7   \n",
       "7                  15                    12                  10   \n",
       "8                  15                     6                  12   \n",
       "9                   8                    10                  11   \n",
       "10                  7                    11                  15   \n",
       "11                  6                    11                  15   \n",
       "12                 11                    12                   6   \n",
       "13                 13                     9                   7   \n",
       "14                 15                    13                   5   \n",
       "15                 14                     8                  14   \n",
       "16                  8                    10                  11   \n",
       "17                 11                    11                   9   \n",
       "18                 14                    14                   9   \n",
       "19                 13                     5                   7   \n",
       "20                  7                    11                  15   \n",
       "21                  6                    11                  15   \n",
       "22                 11                    12                   6   \n",
       "23                 13                     9                   7   \n",
       "24                 15                    13                   5   \n",
       "25                 14                     8                  14   \n",
       "26                  8                    10                  11   \n",
       "27                 11                    11                   9   \n",
       "28                 14                    14                   9   \n",
       "29                 13                     5                   7   \n",
       "30                  6                    11                  15   \n",
       "31                  7                    11                  15   \n",
       "32                 15                     6                  12   \n",
       "33                 15                    13                   5   \n",
       "34                 14                    14                   9   \n",
       "35                 13                     5                   7   \n",
       "36                 13                    11                   5   \n",
       "37                 15                    12                  10   \n",
       "38                 89                    81                  76   \n",
       "39                 14                     7                  13   \n",
       "40                 15                     6                  12   \n",
       "41                 15                    13                   5   \n",
       "42                 13                     5                   7   \n",
       "43                 13                    11                   5   \n",
       "44                 84                    89                  74   \n",
       "45                 10                    10                  15   \n",
       "46                 14                    14                   9   \n",
       "47                  7                    14                  13   \n",
       "48                 13                     9                   7   \n",
       "49                  5                     7                   7   \n",
       "\n",
       "   goalkeeping_positioning  goalkeeping_reflexes  goalkeeping_speed  points  \n",
       "0                       14                    11                NaN     946  \n",
       "1                       14                     8                NaN     670  \n",
       "2                       15                    11                NaN     361  \n",
       "3                       90                    84               46.0     221  \n",
       "4                       14                     9                NaN      84  \n",
       "5                        7                    11                NaN      71  \n",
       "6                       11                     6                NaN      48  \n",
       "7                        7                    10                NaN      47  \n",
       "8                        8                    10                NaN      45  \n",
       "9                       14                    11                NaN      36  \n",
       "10                      14                    11                NaN     478  \n",
       "11                      14                     8                NaN     280  \n",
       "12                       8                     8                NaN     119  \n",
       "13                      14                     9                NaN     753  \n",
       "14                      10                    13                NaN      29  \n",
       "15                      13                    14                NaN     414  \n",
       "16                      14                    11                NaN      25  \n",
       "17                       5                    14                NaN     121  \n",
       "18                      11                    14                NaN     188  \n",
       "19                      11                     6                NaN     347  \n",
       "20                      14                    11                NaN     478  \n",
       "21                      14                     8                NaN     280  \n",
       "22                       8                     8                NaN     119  \n",
       "23                      14                     9                NaN     753  \n",
       "24                      10                    13                NaN      29  \n",
       "25                      13                    14                NaN     414  \n",
       "26                      14                    11                NaN      25  \n",
       "27                       5                    14                NaN     121  \n",
       "28                      11                    14                NaN     188  \n",
       "29                      11                     6                NaN     347  \n",
       "30                      14                     8                NaN     613  \n",
       "31                      14                    11                NaN     178  \n",
       "32                       8                    10                NaN     580  \n",
       "33                      10                    13                NaN      73  \n",
       "34                      11                    14                NaN     121  \n",
       "35                      11                     6                NaN      58  \n",
       "36                       5                     7                NaN     239  \n",
       "37                       7                    10                NaN     186  \n",
       "38                      83                    89               50.0      36  \n",
       "39                      14                     8                NaN     460  \n",
       "40                       8                    10                NaN     170  \n",
       "41                      10                    13                NaN     175  \n",
       "42                      11                     6                NaN      85  \n",
       "43                       5                     7                NaN     549  \n",
       "44                      86                    88               46.0      82  \n",
       "45                       7                    14                NaN     193  \n",
       "46                      11                    14                NaN     116  \n",
       "47                      11                     7                NaN      18  \n",
       "48                      14                     9                NaN      20  \n",
       "49                       7                    10                NaN      61  \n",
       "\n",
       "[50 rows x 31 columns]"
      ]
     },
     "execution_count": 66,
     "metadata": {},
     "output_type": "execute_result"
    }
   ],
   "source": [
    "last_5_years = pd.concat([fifa17, fifa18, fifa19, fifa21, fifa22], ignore_index=True, sort=False)\n",
    "last_5_years"
   ]
  },
  {
   "cell_type": "code",
   "execution_count": 69,
   "metadata": {},
   "outputs": [],
   "source": [
    "player_positions = last_5_years['player_positions'].value_counts()"
   ]
  },
  {
   "cell_type": "code",
   "execution_count": 70,
   "metadata": {},
   "outputs": [
    {
     "data": {
      "application/vnd.plotly.v1+json": {
       "config": {
        "plotlyServerURL": "https://plot.ly"
       },
       "data": [
        {
         "alignmentgroup": "True",
         "bingroup": "x",
         "hovertemplate": "player_positions=%{x}<br>count=%{y}<extra></extra>",
         "legendgroup": "",
         "marker": {
          "color": "#636efa",
          "pattern": {
           "shape": ""
          }
         },
         "name": "",
         "offsetgroup": "",
         "orientation": "v",
         "showlegend": false,
         "type": "histogram",
         "x": [
          "LW",
          "RW",
          "LW",
          "GK",
          "CM",
          "CB",
          "LW",
          "CM",
          "ST",
          "ST",
          "LW",
          "RW",
          "LW",
          "CM",
          "CAM",
          "ST",
          "ST",
          "CB",
          "RW",
          "ST",
          "LW",
          "RW",
          "LW",
          "CM",
          "CAM",
          "ST",
          "ST",
          "CB",
          "RW",
          "ST",
          "RW",
          "ST",
          "ST",
          "CAM",
          "RW",
          "ST",
          "CF",
          "CDM",
          "GK",
          "CM",
          "ST",
          "CM",
          "ST",
          "CF",
          "GK",
          "LW",
          "RW",
          "ST",
          "CM",
          "LW"
         ],
         "xaxis": "x",
         "yaxis": "y"
        }
       ],
       "layout": {
        "barmode": "relative",
        "legend": {
         "tracegroupgap": 0
        },
        "margin": {
         "t": 60
        },
        "template": {
         "data": {
          "bar": [
           {
            "error_x": {
             "color": "#2a3f5f"
            },
            "error_y": {
             "color": "#2a3f5f"
            },
            "marker": {
             "line": {
              "color": "#E5ECF6",
              "width": 0.5
             },
             "pattern": {
              "fillmode": "overlay",
              "size": 10,
              "solidity": 0.2
             }
            },
            "type": "bar"
           }
          ],
          "barpolar": [
           {
            "marker": {
             "line": {
              "color": "#E5ECF6",
              "width": 0.5
             },
             "pattern": {
              "fillmode": "overlay",
              "size": 10,
              "solidity": 0.2
             }
            },
            "type": "barpolar"
           }
          ],
          "carpet": [
           {
            "aaxis": {
             "endlinecolor": "#2a3f5f",
             "gridcolor": "white",
             "linecolor": "white",
             "minorgridcolor": "white",
             "startlinecolor": "#2a3f5f"
            },
            "baxis": {
             "endlinecolor": "#2a3f5f",
             "gridcolor": "white",
             "linecolor": "white",
             "minorgridcolor": "white",
             "startlinecolor": "#2a3f5f"
            },
            "type": "carpet"
           }
          ],
          "choropleth": [
           {
            "colorbar": {
             "outlinewidth": 0,
             "ticks": ""
            },
            "type": "choropleth"
           }
          ],
          "contour": [
           {
            "colorbar": {
             "outlinewidth": 0,
             "ticks": ""
            },
            "colorscale": [
             [
              0,
              "#0d0887"
             ],
             [
              0.1111111111111111,
              "#46039f"
             ],
             [
              0.2222222222222222,
              "#7201a8"
             ],
             [
              0.3333333333333333,
              "#9c179e"
             ],
             [
              0.4444444444444444,
              "#bd3786"
             ],
             [
              0.5555555555555556,
              "#d8576b"
             ],
             [
              0.6666666666666666,
              "#ed7953"
             ],
             [
              0.7777777777777778,
              "#fb9f3a"
             ],
             [
              0.8888888888888888,
              "#fdca26"
             ],
             [
              1,
              "#f0f921"
             ]
            ],
            "type": "contour"
           }
          ],
          "contourcarpet": [
           {
            "colorbar": {
             "outlinewidth": 0,
             "ticks": ""
            },
            "type": "contourcarpet"
           }
          ],
          "heatmap": [
           {
            "colorbar": {
             "outlinewidth": 0,
             "ticks": ""
            },
            "colorscale": [
             [
              0,
              "#0d0887"
             ],
             [
              0.1111111111111111,
              "#46039f"
             ],
             [
              0.2222222222222222,
              "#7201a8"
             ],
             [
              0.3333333333333333,
              "#9c179e"
             ],
             [
              0.4444444444444444,
              "#bd3786"
             ],
             [
              0.5555555555555556,
              "#d8576b"
             ],
             [
              0.6666666666666666,
              "#ed7953"
             ],
             [
              0.7777777777777778,
              "#fb9f3a"
             ],
             [
              0.8888888888888888,
              "#fdca26"
             ],
             [
              1,
              "#f0f921"
             ]
            ],
            "type": "heatmap"
           }
          ],
          "heatmapgl": [
           {
            "colorbar": {
             "outlinewidth": 0,
             "ticks": ""
            },
            "colorscale": [
             [
              0,
              "#0d0887"
             ],
             [
              0.1111111111111111,
              "#46039f"
             ],
             [
              0.2222222222222222,
              "#7201a8"
             ],
             [
              0.3333333333333333,
              "#9c179e"
             ],
             [
              0.4444444444444444,
              "#bd3786"
             ],
             [
              0.5555555555555556,
              "#d8576b"
             ],
             [
              0.6666666666666666,
              "#ed7953"
             ],
             [
              0.7777777777777778,
              "#fb9f3a"
             ],
             [
              0.8888888888888888,
              "#fdca26"
             ],
             [
              1,
              "#f0f921"
             ]
            ],
            "type": "heatmapgl"
           }
          ],
          "histogram": [
           {
            "marker": {
             "pattern": {
              "fillmode": "overlay",
              "size": 10,
              "solidity": 0.2
             }
            },
            "type": "histogram"
           }
          ],
          "histogram2d": [
           {
            "colorbar": {
             "outlinewidth": 0,
             "ticks": ""
            },
            "colorscale": [
             [
              0,
              "#0d0887"
             ],
             [
              0.1111111111111111,
              "#46039f"
             ],
             [
              0.2222222222222222,
              "#7201a8"
             ],
             [
              0.3333333333333333,
              "#9c179e"
             ],
             [
              0.4444444444444444,
              "#bd3786"
             ],
             [
              0.5555555555555556,
              "#d8576b"
             ],
             [
              0.6666666666666666,
              "#ed7953"
             ],
             [
              0.7777777777777778,
              "#fb9f3a"
             ],
             [
              0.8888888888888888,
              "#fdca26"
             ],
             [
              1,
              "#f0f921"
             ]
            ],
            "type": "histogram2d"
           }
          ],
          "histogram2dcontour": [
           {
            "colorbar": {
             "outlinewidth": 0,
             "ticks": ""
            },
            "colorscale": [
             [
              0,
              "#0d0887"
             ],
             [
              0.1111111111111111,
              "#46039f"
             ],
             [
              0.2222222222222222,
              "#7201a8"
             ],
             [
              0.3333333333333333,
              "#9c179e"
             ],
             [
              0.4444444444444444,
              "#bd3786"
             ],
             [
              0.5555555555555556,
              "#d8576b"
             ],
             [
              0.6666666666666666,
              "#ed7953"
             ],
             [
              0.7777777777777778,
              "#fb9f3a"
             ],
             [
              0.8888888888888888,
              "#fdca26"
             ],
             [
              1,
              "#f0f921"
             ]
            ],
            "type": "histogram2dcontour"
           }
          ],
          "mesh3d": [
           {
            "colorbar": {
             "outlinewidth": 0,
             "ticks": ""
            },
            "type": "mesh3d"
           }
          ],
          "parcoords": [
           {
            "line": {
             "colorbar": {
              "outlinewidth": 0,
              "ticks": ""
             }
            },
            "type": "parcoords"
           }
          ],
          "pie": [
           {
            "automargin": true,
            "type": "pie"
           }
          ],
          "scatter": [
           {
            "fillpattern": {
             "fillmode": "overlay",
             "size": 10,
             "solidity": 0.2
            },
            "type": "scatter"
           }
          ],
          "scatter3d": [
           {
            "line": {
             "colorbar": {
              "outlinewidth": 0,
              "ticks": ""
             }
            },
            "marker": {
             "colorbar": {
              "outlinewidth": 0,
              "ticks": ""
             }
            },
            "type": "scatter3d"
           }
          ],
          "scattercarpet": [
           {
            "marker": {
             "colorbar": {
              "outlinewidth": 0,
              "ticks": ""
             }
            },
            "type": "scattercarpet"
           }
          ],
          "scattergeo": [
           {
            "marker": {
             "colorbar": {
              "outlinewidth": 0,
              "ticks": ""
             }
            },
            "type": "scattergeo"
           }
          ],
          "scattergl": [
           {
            "marker": {
             "colorbar": {
              "outlinewidth": 0,
              "ticks": ""
             }
            },
            "type": "scattergl"
           }
          ],
          "scattermapbox": [
           {
            "marker": {
             "colorbar": {
              "outlinewidth": 0,
              "ticks": ""
             }
            },
            "type": "scattermapbox"
           }
          ],
          "scatterpolar": [
           {
            "marker": {
             "colorbar": {
              "outlinewidth": 0,
              "ticks": ""
             }
            },
            "type": "scatterpolar"
           }
          ],
          "scatterpolargl": [
           {
            "marker": {
             "colorbar": {
              "outlinewidth": 0,
              "ticks": ""
             }
            },
            "type": "scatterpolargl"
           }
          ],
          "scatterternary": [
           {
            "marker": {
             "colorbar": {
              "outlinewidth": 0,
              "ticks": ""
             }
            },
            "type": "scatterternary"
           }
          ],
          "surface": [
           {
            "colorbar": {
             "outlinewidth": 0,
             "ticks": ""
            },
            "colorscale": [
             [
              0,
              "#0d0887"
             ],
             [
              0.1111111111111111,
              "#46039f"
             ],
             [
              0.2222222222222222,
              "#7201a8"
             ],
             [
              0.3333333333333333,
              "#9c179e"
             ],
             [
              0.4444444444444444,
              "#bd3786"
             ],
             [
              0.5555555555555556,
              "#d8576b"
             ],
             [
              0.6666666666666666,
              "#ed7953"
             ],
             [
              0.7777777777777778,
              "#fb9f3a"
             ],
             [
              0.8888888888888888,
              "#fdca26"
             ],
             [
              1,
              "#f0f921"
             ]
            ],
            "type": "surface"
           }
          ],
          "table": [
           {
            "cells": {
             "fill": {
              "color": "#EBF0F8"
             },
             "line": {
              "color": "white"
             }
            },
            "header": {
             "fill": {
              "color": "#C8D4E3"
             },
             "line": {
              "color": "white"
             }
            },
            "type": "table"
           }
          ]
         },
         "layout": {
          "annotationdefaults": {
           "arrowcolor": "#2a3f5f",
           "arrowhead": 0,
           "arrowwidth": 1
          },
          "autotypenumbers": "strict",
          "coloraxis": {
           "colorbar": {
            "outlinewidth": 0,
            "ticks": ""
           }
          },
          "colorscale": {
           "diverging": [
            [
             0,
             "#8e0152"
            ],
            [
             0.1,
             "#c51b7d"
            ],
            [
             0.2,
             "#de77ae"
            ],
            [
             0.3,
             "#f1b6da"
            ],
            [
             0.4,
             "#fde0ef"
            ],
            [
             0.5,
             "#f7f7f7"
            ],
            [
             0.6,
             "#e6f5d0"
            ],
            [
             0.7,
             "#b8e186"
            ],
            [
             0.8,
             "#7fbc41"
            ],
            [
             0.9,
             "#4d9221"
            ],
            [
             1,
             "#276419"
            ]
           ],
           "sequential": [
            [
             0,
             "#0d0887"
            ],
            [
             0.1111111111111111,
             "#46039f"
            ],
            [
             0.2222222222222222,
             "#7201a8"
            ],
            [
             0.3333333333333333,
             "#9c179e"
            ],
            [
             0.4444444444444444,
             "#bd3786"
            ],
            [
             0.5555555555555556,
             "#d8576b"
            ],
            [
             0.6666666666666666,
             "#ed7953"
            ],
            [
             0.7777777777777778,
             "#fb9f3a"
            ],
            [
             0.8888888888888888,
             "#fdca26"
            ],
            [
             1,
             "#f0f921"
            ]
           ],
           "sequentialminus": [
            [
             0,
             "#0d0887"
            ],
            [
             0.1111111111111111,
             "#46039f"
            ],
            [
             0.2222222222222222,
             "#7201a8"
            ],
            [
             0.3333333333333333,
             "#9c179e"
            ],
            [
             0.4444444444444444,
             "#bd3786"
            ],
            [
             0.5555555555555556,
             "#d8576b"
            ],
            [
             0.6666666666666666,
             "#ed7953"
            ],
            [
             0.7777777777777778,
             "#fb9f3a"
            ],
            [
             0.8888888888888888,
             "#fdca26"
            ],
            [
             1,
             "#f0f921"
            ]
           ]
          },
          "colorway": [
           "#636efa",
           "#EF553B",
           "#00cc96",
           "#ab63fa",
           "#FFA15A",
           "#19d3f3",
           "#FF6692",
           "#B6E880",
           "#FF97FF",
           "#FECB52"
          ],
          "font": {
           "color": "#2a3f5f"
          },
          "geo": {
           "bgcolor": "white",
           "lakecolor": "white",
           "landcolor": "#E5ECF6",
           "showlakes": true,
           "showland": true,
           "subunitcolor": "white"
          },
          "hoverlabel": {
           "align": "left"
          },
          "hovermode": "closest",
          "mapbox": {
           "style": "light"
          },
          "paper_bgcolor": "white",
          "plot_bgcolor": "#E5ECF6",
          "polar": {
           "angularaxis": {
            "gridcolor": "white",
            "linecolor": "white",
            "ticks": ""
           },
           "bgcolor": "#E5ECF6",
           "radialaxis": {
            "gridcolor": "white",
            "linecolor": "white",
            "ticks": ""
           }
          },
          "scene": {
           "xaxis": {
            "backgroundcolor": "#E5ECF6",
            "gridcolor": "white",
            "gridwidth": 2,
            "linecolor": "white",
            "showbackground": true,
            "ticks": "",
            "zerolinecolor": "white"
           },
           "yaxis": {
            "backgroundcolor": "#E5ECF6",
            "gridcolor": "white",
            "gridwidth": 2,
            "linecolor": "white",
            "showbackground": true,
            "ticks": "",
            "zerolinecolor": "white"
           },
           "zaxis": {
            "backgroundcolor": "#E5ECF6",
            "gridcolor": "white",
            "gridwidth": 2,
            "linecolor": "white",
            "showbackground": true,
            "ticks": "",
            "zerolinecolor": "white"
           }
          },
          "shapedefaults": {
           "line": {
            "color": "#2a3f5f"
           }
          },
          "ternary": {
           "aaxis": {
            "gridcolor": "white",
            "linecolor": "white",
            "ticks": ""
           },
           "baxis": {
            "gridcolor": "white",
            "linecolor": "white",
            "ticks": ""
           },
           "bgcolor": "#E5ECF6",
           "caxis": {
            "gridcolor": "white",
            "linecolor": "white",
            "ticks": ""
           }
          },
          "title": {
           "x": 0.05
          },
          "xaxis": {
           "automargin": true,
           "gridcolor": "white",
           "linecolor": "white",
           "ticks": "",
           "title": {
            "standoff": 15
           },
           "zerolinecolor": "white",
           "zerolinewidth": 2
          },
          "yaxis": {
           "automargin": true,
           "gridcolor": "white",
           "linecolor": "white",
           "ticks": "",
           "title": {
            "standoff": 15
           },
           "zerolinecolor": "white",
           "zerolinewidth": 2
          }
         }
        },
        "xaxis": {
         "anchor": "y",
         "domain": [
          0,
          1
         ],
         "title": {
          "text": "player_positions"
         }
        },
        "yaxis": {
         "anchor": "x",
         "domain": [
          0,
          1
         ],
         "title": {
          "text": "count"
         }
        }
       }
      }
     },
     "metadata": {},
     "output_type": "display_data"
    }
   ],
   "source": [
    "fig = px.histogram(last_5_years, x=last_5_years['player_positions'])\n",
    "fig.show()"
   ]
  },
  {
   "cell_type": "code",
   "execution_count": 73,
   "metadata": {},
   "outputs": [
    {
     "data": {
      "application/vnd.plotly.v1+json": {
       "config": {
        "plotlyServerURL": "https://plot.ly"
       },
       "data": [
        {
         "alignmentgroup": "True",
         "bingroup": "x",
         "hovertemplate": "long_name=%{x}<br>count=%{y}<extra></extra>",
         "legendgroup": "",
         "marker": {
          "color": "#636efa",
          "pattern": {
           "shape": ""
          }
         },
         "name": "",
         "offsetgroup": "",
         "orientation": "v",
         "showlegend": false,
         "type": "histogram",
         "x": [
          "Cristiano Ronaldo dos Santos Aveiro",
          "Lionel Andrés Messi Cuccittini",
          "Neymar da Silva Santos Júnior",
          "Gianluigi Buffon",
          "Luka Modrić",
          "Sergio Ramos García",
          "Kylian Mbappé Lottin",
          "N'Golo Kanté",
          "Robert Lewandowski",
          "Harry Kane",
          "Cristiano Ronaldo dos Santos Aveiro",
          "Lionel Andrés Messi Cuccittini",
          "Eden Hazard",
          "Luka Modrić",
          "Kevin De Bruyne",
          "Antoine Griezmann",
          "Harry Kane",
          "Raphaël Varane",
          "Mohamed Salah Ghaly",
          "Kylian Mbappé Lottin",
          "Cristiano Ronaldo dos Santos Aveiro",
          "Lionel Andrés Messi Cuccittini",
          "Eden Hazard",
          "Luka Modrić",
          "Kevin De Bruyne",
          "Antoine Griezmann",
          "Harry Kane",
          "Raphaël Varane",
          "Mohamed Salah Ghaly",
          "Kylian Mbappé Lottin",
          "Lionel Andrés Messi Cuccittini",
          "Cristiano Ronaldo dos Santos Aveiro",
          "Robert Lewandowski",
          "Kevin De Bruyne",
          "Mohamed Salah Ghaly",
          "Kylian Mbappé Lottin",
          "Karim Benzema",
          "N'Golo Kanté",
          "Gianluigi Donnarumma",
          "Luiz Frello Filho Jorge",
          "Robert Lewandowski",
          "Kevin De Bruyne",
          "Kylian Mbappé Lottin",
          "Karim Benzema",
          "Thibaut Nicolas Marc Courtois",
          "Sadio Mané",
          "Mohamed Salah Ghaly",
          "Erling Braut Haaland",
          "Luka Modrić",
          "Vinícius José Paixão de Oliveira Júnior"
         ],
         "xaxis": "x",
         "yaxis": "y"
        }
       ],
       "layout": {
        "barmode": "relative",
        "legend": {
         "tracegroupgap": 0
        },
        "margin": {
         "t": 60
        },
        "template": {
         "data": {
          "bar": [
           {
            "error_x": {
             "color": "#2a3f5f"
            },
            "error_y": {
             "color": "#2a3f5f"
            },
            "marker": {
             "line": {
              "color": "#E5ECF6",
              "width": 0.5
             },
             "pattern": {
              "fillmode": "overlay",
              "size": 10,
              "solidity": 0.2
             }
            },
            "type": "bar"
           }
          ],
          "barpolar": [
           {
            "marker": {
             "line": {
              "color": "#E5ECF6",
              "width": 0.5
             },
             "pattern": {
              "fillmode": "overlay",
              "size": 10,
              "solidity": 0.2
             }
            },
            "type": "barpolar"
           }
          ],
          "carpet": [
           {
            "aaxis": {
             "endlinecolor": "#2a3f5f",
             "gridcolor": "white",
             "linecolor": "white",
             "minorgridcolor": "white",
             "startlinecolor": "#2a3f5f"
            },
            "baxis": {
             "endlinecolor": "#2a3f5f",
             "gridcolor": "white",
             "linecolor": "white",
             "minorgridcolor": "white",
             "startlinecolor": "#2a3f5f"
            },
            "type": "carpet"
           }
          ],
          "choropleth": [
           {
            "colorbar": {
             "outlinewidth": 0,
             "ticks": ""
            },
            "type": "choropleth"
           }
          ],
          "contour": [
           {
            "colorbar": {
             "outlinewidth": 0,
             "ticks": ""
            },
            "colorscale": [
             [
              0,
              "#0d0887"
             ],
             [
              0.1111111111111111,
              "#46039f"
             ],
             [
              0.2222222222222222,
              "#7201a8"
             ],
             [
              0.3333333333333333,
              "#9c179e"
             ],
             [
              0.4444444444444444,
              "#bd3786"
             ],
             [
              0.5555555555555556,
              "#d8576b"
             ],
             [
              0.6666666666666666,
              "#ed7953"
             ],
             [
              0.7777777777777778,
              "#fb9f3a"
             ],
             [
              0.8888888888888888,
              "#fdca26"
             ],
             [
              1,
              "#f0f921"
             ]
            ],
            "type": "contour"
           }
          ],
          "contourcarpet": [
           {
            "colorbar": {
             "outlinewidth": 0,
             "ticks": ""
            },
            "type": "contourcarpet"
           }
          ],
          "heatmap": [
           {
            "colorbar": {
             "outlinewidth": 0,
             "ticks": ""
            },
            "colorscale": [
             [
              0,
              "#0d0887"
             ],
             [
              0.1111111111111111,
              "#46039f"
             ],
             [
              0.2222222222222222,
              "#7201a8"
             ],
             [
              0.3333333333333333,
              "#9c179e"
             ],
             [
              0.4444444444444444,
              "#bd3786"
             ],
             [
              0.5555555555555556,
              "#d8576b"
             ],
             [
              0.6666666666666666,
              "#ed7953"
             ],
             [
              0.7777777777777778,
              "#fb9f3a"
             ],
             [
              0.8888888888888888,
              "#fdca26"
             ],
             [
              1,
              "#f0f921"
             ]
            ],
            "type": "heatmap"
           }
          ],
          "heatmapgl": [
           {
            "colorbar": {
             "outlinewidth": 0,
             "ticks": ""
            },
            "colorscale": [
             [
              0,
              "#0d0887"
             ],
             [
              0.1111111111111111,
              "#46039f"
             ],
             [
              0.2222222222222222,
              "#7201a8"
             ],
             [
              0.3333333333333333,
              "#9c179e"
             ],
             [
              0.4444444444444444,
              "#bd3786"
             ],
             [
              0.5555555555555556,
              "#d8576b"
             ],
             [
              0.6666666666666666,
              "#ed7953"
             ],
             [
              0.7777777777777778,
              "#fb9f3a"
             ],
             [
              0.8888888888888888,
              "#fdca26"
             ],
             [
              1,
              "#f0f921"
             ]
            ],
            "type": "heatmapgl"
           }
          ],
          "histogram": [
           {
            "marker": {
             "pattern": {
              "fillmode": "overlay",
              "size": 10,
              "solidity": 0.2
             }
            },
            "type": "histogram"
           }
          ],
          "histogram2d": [
           {
            "colorbar": {
             "outlinewidth": 0,
             "ticks": ""
            },
            "colorscale": [
             [
              0,
              "#0d0887"
             ],
             [
              0.1111111111111111,
              "#46039f"
             ],
             [
              0.2222222222222222,
              "#7201a8"
             ],
             [
              0.3333333333333333,
              "#9c179e"
             ],
             [
              0.4444444444444444,
              "#bd3786"
             ],
             [
              0.5555555555555556,
              "#d8576b"
             ],
             [
              0.6666666666666666,
              "#ed7953"
             ],
             [
              0.7777777777777778,
              "#fb9f3a"
             ],
             [
              0.8888888888888888,
              "#fdca26"
             ],
             [
              1,
              "#f0f921"
             ]
            ],
            "type": "histogram2d"
           }
          ],
          "histogram2dcontour": [
           {
            "colorbar": {
             "outlinewidth": 0,
             "ticks": ""
            },
            "colorscale": [
             [
              0,
              "#0d0887"
             ],
             [
              0.1111111111111111,
              "#46039f"
             ],
             [
              0.2222222222222222,
              "#7201a8"
             ],
             [
              0.3333333333333333,
              "#9c179e"
             ],
             [
              0.4444444444444444,
              "#bd3786"
             ],
             [
              0.5555555555555556,
              "#d8576b"
             ],
             [
              0.6666666666666666,
              "#ed7953"
             ],
             [
              0.7777777777777778,
              "#fb9f3a"
             ],
             [
              0.8888888888888888,
              "#fdca26"
             ],
             [
              1,
              "#f0f921"
             ]
            ],
            "type": "histogram2dcontour"
           }
          ],
          "mesh3d": [
           {
            "colorbar": {
             "outlinewidth": 0,
             "ticks": ""
            },
            "type": "mesh3d"
           }
          ],
          "parcoords": [
           {
            "line": {
             "colorbar": {
              "outlinewidth": 0,
              "ticks": ""
             }
            },
            "type": "parcoords"
           }
          ],
          "pie": [
           {
            "automargin": true,
            "type": "pie"
           }
          ],
          "scatter": [
           {
            "fillpattern": {
             "fillmode": "overlay",
             "size": 10,
             "solidity": 0.2
            },
            "type": "scatter"
           }
          ],
          "scatter3d": [
           {
            "line": {
             "colorbar": {
              "outlinewidth": 0,
              "ticks": ""
             }
            },
            "marker": {
             "colorbar": {
              "outlinewidth": 0,
              "ticks": ""
             }
            },
            "type": "scatter3d"
           }
          ],
          "scattercarpet": [
           {
            "marker": {
             "colorbar": {
              "outlinewidth": 0,
              "ticks": ""
             }
            },
            "type": "scattercarpet"
           }
          ],
          "scattergeo": [
           {
            "marker": {
             "colorbar": {
              "outlinewidth": 0,
              "ticks": ""
             }
            },
            "type": "scattergeo"
           }
          ],
          "scattergl": [
           {
            "marker": {
             "colorbar": {
              "outlinewidth": 0,
              "ticks": ""
             }
            },
            "type": "scattergl"
           }
          ],
          "scattermapbox": [
           {
            "marker": {
             "colorbar": {
              "outlinewidth": 0,
              "ticks": ""
             }
            },
            "type": "scattermapbox"
           }
          ],
          "scatterpolar": [
           {
            "marker": {
             "colorbar": {
              "outlinewidth": 0,
              "ticks": ""
             }
            },
            "type": "scatterpolar"
           }
          ],
          "scatterpolargl": [
           {
            "marker": {
             "colorbar": {
              "outlinewidth": 0,
              "ticks": ""
             }
            },
            "type": "scatterpolargl"
           }
          ],
          "scatterternary": [
           {
            "marker": {
             "colorbar": {
              "outlinewidth": 0,
              "ticks": ""
             }
            },
            "type": "scatterternary"
           }
          ],
          "surface": [
           {
            "colorbar": {
             "outlinewidth": 0,
             "ticks": ""
            },
            "colorscale": [
             [
              0,
              "#0d0887"
             ],
             [
              0.1111111111111111,
              "#46039f"
             ],
             [
              0.2222222222222222,
              "#7201a8"
             ],
             [
              0.3333333333333333,
              "#9c179e"
             ],
             [
              0.4444444444444444,
              "#bd3786"
             ],
             [
              0.5555555555555556,
              "#d8576b"
             ],
             [
              0.6666666666666666,
              "#ed7953"
             ],
             [
              0.7777777777777778,
              "#fb9f3a"
             ],
             [
              0.8888888888888888,
              "#fdca26"
             ],
             [
              1,
              "#f0f921"
             ]
            ],
            "type": "surface"
           }
          ],
          "table": [
           {
            "cells": {
             "fill": {
              "color": "#EBF0F8"
             },
             "line": {
              "color": "white"
             }
            },
            "header": {
             "fill": {
              "color": "#C8D4E3"
             },
             "line": {
              "color": "white"
             }
            },
            "type": "table"
           }
          ]
         },
         "layout": {
          "annotationdefaults": {
           "arrowcolor": "#2a3f5f",
           "arrowhead": 0,
           "arrowwidth": 1
          },
          "autotypenumbers": "strict",
          "coloraxis": {
           "colorbar": {
            "outlinewidth": 0,
            "ticks": ""
           }
          },
          "colorscale": {
           "diverging": [
            [
             0,
             "#8e0152"
            ],
            [
             0.1,
             "#c51b7d"
            ],
            [
             0.2,
             "#de77ae"
            ],
            [
             0.3,
             "#f1b6da"
            ],
            [
             0.4,
             "#fde0ef"
            ],
            [
             0.5,
             "#f7f7f7"
            ],
            [
             0.6,
             "#e6f5d0"
            ],
            [
             0.7,
             "#b8e186"
            ],
            [
             0.8,
             "#7fbc41"
            ],
            [
             0.9,
             "#4d9221"
            ],
            [
             1,
             "#276419"
            ]
           ],
           "sequential": [
            [
             0,
             "#0d0887"
            ],
            [
             0.1111111111111111,
             "#46039f"
            ],
            [
             0.2222222222222222,
             "#7201a8"
            ],
            [
             0.3333333333333333,
             "#9c179e"
            ],
            [
             0.4444444444444444,
             "#bd3786"
            ],
            [
             0.5555555555555556,
             "#d8576b"
            ],
            [
             0.6666666666666666,
             "#ed7953"
            ],
            [
             0.7777777777777778,
             "#fb9f3a"
            ],
            [
             0.8888888888888888,
             "#fdca26"
            ],
            [
             1,
             "#f0f921"
            ]
           ],
           "sequentialminus": [
            [
             0,
             "#0d0887"
            ],
            [
             0.1111111111111111,
             "#46039f"
            ],
            [
             0.2222222222222222,
             "#7201a8"
            ],
            [
             0.3333333333333333,
             "#9c179e"
            ],
            [
             0.4444444444444444,
             "#bd3786"
            ],
            [
             0.5555555555555556,
             "#d8576b"
            ],
            [
             0.6666666666666666,
             "#ed7953"
            ],
            [
             0.7777777777777778,
             "#fb9f3a"
            ],
            [
             0.8888888888888888,
             "#fdca26"
            ],
            [
             1,
             "#f0f921"
            ]
           ]
          },
          "colorway": [
           "#636efa",
           "#EF553B",
           "#00cc96",
           "#ab63fa",
           "#FFA15A",
           "#19d3f3",
           "#FF6692",
           "#B6E880",
           "#FF97FF",
           "#FECB52"
          ],
          "font": {
           "color": "#2a3f5f"
          },
          "geo": {
           "bgcolor": "white",
           "lakecolor": "white",
           "landcolor": "#E5ECF6",
           "showlakes": true,
           "showland": true,
           "subunitcolor": "white"
          },
          "hoverlabel": {
           "align": "left"
          },
          "hovermode": "closest",
          "mapbox": {
           "style": "light"
          },
          "paper_bgcolor": "white",
          "plot_bgcolor": "#E5ECF6",
          "polar": {
           "angularaxis": {
            "gridcolor": "white",
            "linecolor": "white",
            "ticks": ""
           },
           "bgcolor": "#E5ECF6",
           "radialaxis": {
            "gridcolor": "white",
            "linecolor": "white",
            "ticks": ""
           }
          },
          "scene": {
           "xaxis": {
            "backgroundcolor": "#E5ECF6",
            "gridcolor": "white",
            "gridwidth": 2,
            "linecolor": "white",
            "showbackground": true,
            "ticks": "",
            "zerolinecolor": "white"
           },
           "yaxis": {
            "backgroundcolor": "#E5ECF6",
            "gridcolor": "white",
            "gridwidth": 2,
            "linecolor": "white",
            "showbackground": true,
            "ticks": "",
            "zerolinecolor": "white"
           },
           "zaxis": {
            "backgroundcolor": "#E5ECF6",
            "gridcolor": "white",
            "gridwidth": 2,
            "linecolor": "white",
            "showbackground": true,
            "ticks": "",
            "zerolinecolor": "white"
           }
          },
          "shapedefaults": {
           "line": {
            "color": "#2a3f5f"
           }
          },
          "ternary": {
           "aaxis": {
            "gridcolor": "white",
            "linecolor": "white",
            "ticks": ""
           },
           "baxis": {
            "gridcolor": "white",
            "linecolor": "white",
            "ticks": ""
           },
           "bgcolor": "#E5ECF6",
           "caxis": {
            "gridcolor": "white",
            "linecolor": "white",
            "ticks": ""
           }
          },
          "title": {
           "x": 0.05
          },
          "xaxis": {
           "automargin": true,
           "gridcolor": "white",
           "linecolor": "white",
           "ticks": "",
           "title": {
            "standoff": 15
           },
           "zerolinecolor": "white",
           "zerolinewidth": 2
          },
          "yaxis": {
           "automargin": true,
           "gridcolor": "white",
           "linecolor": "white",
           "ticks": "",
           "title": {
            "standoff": 15
           },
           "zerolinecolor": "white",
           "zerolinewidth": 2
          }
         }
        },
        "xaxis": {
         "anchor": "y",
         "domain": [
          0,
          1
         ],
         "title": {
          "text": "long_name"
         }
        },
        "yaxis": {
         "anchor": "x",
         "domain": [
          0,
          1
         ],
         "title": {
          "text": "count"
         }
        }
       }
      }
     },
     "metadata": {},
     "output_type": "display_data"
    }
   ],
   "source": [
    "fig = px.histogram(last_5_years, x=last_5_years['long_name'])\n",
    "fig.show()\n"
   ]
  },
  {
   "cell_type": "code",
   "execution_count": null,
   "metadata": {},
   "outputs": [],
   "source": []
  }
 ],
 "metadata": {
  "kernelspec": {
   "display_name": "ironhack",
   "language": "python",
   "name": "python3"
  },
  "language_info": {
   "codemirror_mode": {
    "name": "ipython",
    "version": 3
   },
   "file_extension": ".py",
   "mimetype": "text/x-python",
   "name": "python",
   "nbconvert_exporter": "python",
   "pygments_lexer": "ipython3",
   "version": "3.9.12"
  },
  "orig_nbformat": 4,
  "vscode": {
   "interpreter": {
    "hash": "79e8e12960902be9b96136e06f35e6a59d5d8c359e0492f5e08d8a671bbdf383"
   }
  }
 },
 "nbformat": 4,
 "nbformat_minor": 2
}
